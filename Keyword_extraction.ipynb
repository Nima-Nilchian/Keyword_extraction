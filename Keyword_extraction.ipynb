{
  "cells": [
    {
      "cell_type": "markdown",
      "metadata": {
        "id": "view-in-github",
        "colab_type": "text"
      },
      "source": [
        "<a href=\"https://colab.research.google.com/github/Nima-Nilchian/Keyword_extraction/blob/master/Keyword_extraction.ipynb\" target=\"_parent\"><img src=\"https://colab.research.google.com/assets/colab-badge.svg\" alt=\"Open In Colab\"/></a>"
      ]
    },
    {
      "cell_type": "markdown",
      "metadata": {
        "id": "SXdlZlPAaHMf"
      },
      "source": [
        "# Keyword Extraction\n",
        "\n",
        "# استخراج عبارت‌های کلیدی متن"
      ]
    },
    {
      "cell_type": "markdown",
      "metadata": {
        "id": "EyUqG5oGVktL"
      },
      "source": [
        "<p align=\"right\">\n",
        "ارزیابی روش‌ها مورد استفاده قرار خواهد گرفت. علاوه بر گزارش نتایج برای هر یک از روش‌ها با استفاده از مجموعه داده، نمونه‌هایی از خروجی را هم برای هر روش گزارش کرده و به صورت شهودی نیز مقایسه‌ای انجام دهید. همچنین سرعت روش‌های پیاده‌سازی شده نیز نیاز به مقایسه دارد.\n",
        "</p>\n",
        "<p align=\"right\">\n",
        ":روش‌های زیر را پیاده‌سازی و طبق روال بالا ارزیابی و مقایسه کنید\n",
        "</p>\n",
        "\n",
        "*   baseline (TF-IDF)\n",
        "*   TF-IDF with Ngrams\n",
        "*   TF-IDF with chunking\n",
        "*   KP-Miner\n",
        "*   Yake\n",
        "*   TextRank\n",
        "*   SingleRank\n",
        "*   TopicRank\n",
        "*   TopicalPageRank\n",
        "*   PositionRank\n",
        "*   MultipartiteRank\n",
        "*   scake\n",
        "*   sgrank\n",
        "\n",
        "\n",
        "\n",
        "\n",
        "\n",
        "\n",
        "\n",
        "\n",
        "\n"
      ]
    },
    {
      "cell_type": "markdown",
      "metadata": {
        "id": "4OhOIh7UbHh6"
      },
      "source": [
        "# Reading and preproccessing Data"
      ]
    },
    {
      "cell_type": "code",
      "execution_count": null,
      "metadata": {
        "id": "A7HKTRH57yfI"
      },
      "outputs": [],
      "source": [
        "!pip install git+https://github.com/boudinfl/pke.git\n",
        "!pip install perke\n",
        "!python -m perke download\n",
        "!pip install yake\n",
        "!pip install keybert"
      ]
    },
    {
      "cell_type": "code",
      "execution_count": null,
      "metadata": {
        "id": "sDISdg5ibZuX"
      },
      "outputs": [],
      "source": [
        "import numpy as np\n",
        "import pandas as pd\n",
        "import json\n",
        "import string\n",
        "import re\n",
        "import time\n",
        "from hazm import *\n",
        "import nltk\n",
        "\n",
        "import matplotlib.pyplot as plt\n",
        "import seaborn as sns\n",
        "sns.set_theme()\n",
        "\n",
        "import warnings\n"
      ]
    },
    {
      "cell_type": "code",
      "execution_count": null,
      "metadata": {
        "id": "hIA0d1k-bO_c",
        "colab": {
          "base_uri": "https://localhost:8080/"
        },
        "outputId": "38be7f2a-0802-4c4f-e8aa-cb6469081c76"
      },
      "outputs": [
        {
          "output_type": "stream",
          "name": "stdout",
          "text": [
            "Mounted at ./content\n"
          ]
        }
      ],
      "source": [
        "from google.colab import drive\n",
        "drive.mount(\"./content\")"
      ]
    },
    {
      "cell_type": "code",
      "execution_count": null,
      "metadata": {
        "id": "lRg3zK-bcxL6"
      },
      "outputs": [],
      "source": [
        "data_loc = './content/MyDrive/datasets/ke/ke_dataset.txt'\n",
        "\n",
        "df = pd.DataFrame()\n",
        "with open(data_loc, 'r') as f:\n",
        "  for line in f.readlines():\n",
        "    json_data = json.loads(line.strip())\n",
        "    df = pd.concat([df, pd.DataFrame([json_data])], ignore_index=True)\n",
        "\n",
        "df.drop('id', axis=1, inplace=True)\n",
        "all_texts = df['body'].tolist()"
      ]
    },
    {
      "cell_type": "code",
      "source": [
        "exist_keywords = []\n",
        "c = 0\n",
        "for i in range(len(df)):\n",
        "  keywords = [k for k in df.keywords.iloc[i] if k in df.body.iloc[i]]\n",
        "  exist_keywords.append(keywords)\n",
        "\n",
        "# df['existing_keywords'] = exist_keywords\n",
        "# df"
      ],
      "metadata": {
        "id": "Iq10y8-jnsk9"
      },
      "execution_count": null,
      "outputs": []
    },
    {
      "cell_type": "code",
      "source": [
        "stopwords = stopwords_list() + ['ها', 'های', 'ی']\n",
        "\n",
        "normalizer = Normalizer()\n",
        "stemmer = Stemmer()\n",
        "lemmatizer = Lemmatizer()\n",
        "\n",
        "tagger = POSTagger(model='./content/MyDrive/resources/pos_tagger.model', universal_tag=False)\n",
        "\n",
        "def preprocess(stemming=True, lemmatizing=False, reg_clean=False, tagging=True, remove_stopwords=True):\n",
        "  df['clean_text'] = df['body'].apply(lambda sample: normalizer.normalize(sample))\n",
        "\n",
        "  if reg_clean:\n",
        "    df['clean_text'] = df['clean_text'].apply(lambda sample: re.sub(r\"[^\\w\\s]\", ' ', sample))\n",
        "    df['clean_text'] = df['clean_text'].apply(lambda sample: re.sub(r\"\\d\", ' ', sample))\n",
        "    df['clean_text'] = df['clean_text'].apply(lambda sample: re.sub(r\"\\s+\", ' ', sample))\n",
        "\n",
        "  if tagging:\n",
        "    df[\"clean_text\"] = df[\"clean_text\"].apply(lambda sample: sent_pos_tagg(sample))\n",
        "  else:\n",
        "    df[\"clean_text\"] = df[\"clean_text\"].apply(lambda r: [w for w in word_tokenize(r)])\n",
        "\n",
        "  if remove_stopwords:\n",
        "    df['clean_text'] = df[\"clean_text\"].apply(lambda sample:[word for word in sample\n",
        "                                                          if word not in stopwords and len(word) > 1\n",
        "                                                          and not word.isdigit()])\n",
        "  if stemming:\n",
        "    df['clean_text'] = df['clean_text'].apply(lambda sample:[stemmer.stem(word)\n",
        "                                                            for word in sample])\n",
        "  if lemmatizing:\n",
        "    df['clean_text'] = df['clean_text'].apply(lambda sample:[lemmatizer.lemmatize(word)\n",
        "                                                            for word in sample])\n",
        "\n",
        "  clean_text = df.clean_text.values.tolist()\n",
        "  train_data = [' '.join(word for word in text).strip() for text in clean_text]\n",
        "  df.drop(columns='clean_text', inplace=True)\n",
        "\n",
        "  return train_data\n",
        "\n",
        "\n",
        "def sent_pos_tagg(text):\n",
        "  sent_pos = tagger.tag_sents(word_tokenize(sent) for sent in sent_tokenize(text))\n",
        "  sent_pos_flat = [item for sent in sent_pos for item in sent]\n",
        "  tokens = []\n",
        "  for pos in sent_pos_flat:\n",
        "    if pos[1] in ['NOUN', 'ADJ', 'NOUN,EZ', 'ADJ,EZ']:\n",
        "      tokens.append(pos[0])\n",
        "\n",
        "  return tokens\n"
      ],
      "metadata": {
        "id": "NZ-ywLZOecas"
      },
      "execution_count": null,
      "outputs": []
    },
    {
      "cell_type": "markdown",
      "source": [
        "# Metrics\n",
        "\n",
        "first we evaluated models with f1-score"
      ],
      "metadata": {
        "id": "NnNXNjqcyIXF"
      }
    },
    {
      "cell_type": "code",
      "source": [
        "def evaluate(candidates, references, ngrams_=False):\n",
        "    if len(references) == 0:\n",
        "      return 0.5\n",
        "\n",
        "    new_references = references\n",
        "    if ngrams_:\n",
        "      new_references = references + ngrams(references)\n",
        "\n",
        "    r = len(set(new_references) & set(candidates)) / len(set(references))\n",
        "    p = len(set(new_references) & set(candidates)) / len(set(candidates))\n",
        "\n",
        "    if p == 0 or r == 0:\n",
        "      return [0, 0, 0]\n",
        "\n",
        "    return [(2*p*r) / (p+r), r, p]\n"
      ],
      "metadata": {
        "id": "KHaHuIdhscif"
      },
      "execution_count": null,
      "outputs": []
    },
    {
      "cell_type": "code",
      "source": [
        "\"\"\" extract ngrams(2, 3) from reference keywords so the f1 score calculation\n",
        "    will have more matches\n",
        "\"\"\"\n",
        "def ngrams(ref):\n",
        "  new_ref = set()\n",
        "  for word in ref:\n",
        "    word_splits = word.split()\n",
        "\n",
        "    if len(word_splits) > 3:\n",
        "      for i in range(len(word_splits) - 2):\n",
        "        new_ref.add(' '.join(word_splits[i:i+3]))\n",
        "\n",
        "    elif len(word_splits) > 2:\n",
        "      for i in range(len(word_splits) - 1):\n",
        "        new_ref.add(' '.join(word_splits[i:i+2]))\n",
        "\n",
        "    else:\n",
        "      new_ref.add(word)\n",
        "\n",
        "  return list(new_ref)"
      ],
      "metadata": {
        "id": "Z_ZL6CXgGfby"
      },
      "execution_count": null,
      "outputs": []
    },
    {
      "cell_type": "code",
      "source": [
        "# Example\n",
        "rf = df.keywords.iloc[0]\n",
        "print(\"references: \", rf)\n",
        "print(\"ngram references: \", ngrams(rf))"
      ],
      "metadata": {
        "colab": {
          "base_uri": "https://localhost:8080/"
        },
        "id": "Zoe6av5AhsbP",
        "outputId": "8cc7a2c3-ee5f-48f8-c373-6e63fcadc41a"
      },
      "execution_count": null,
      "outputs": [
        {
          "output_type": "stream",
          "name": "stdout",
          "text": [
            "references:  ['فقه الحدیث', 'معانی الاخبار', 'روش فقه الحدیثی', 'چینش هندسی روایات', 'شیخ صدوق', 'مبانی فقه الحدیثی']\n",
            "ngram references:  ['روش فقه', 'معانی الاخبار', 'هندسی روایات', 'چینش هندسی', 'فقه الحدیث', 'فقه الحدیثی', 'شیخ صدوق', 'مبانی فقه']\n"
          ]
        }
      ]
    },
    {
      "cell_type": "markdown",
      "source": [
        "# Models and algorithm implementations"
      ],
      "metadata": {
        "id": "QJweshAgye5t"
      }
    },
    {
      "cell_type": "markdown",
      "source": [
        "## TF-IDF\n",
        "\n",
        "iamfakfd"
      ],
      "metadata": {
        "id": "MXOgK7sI0udy"
      }
    },
    {
      "cell_type": "code",
      "source": [
        "from sklearn.feature_extraction.text import TfidfVectorizer\n",
        "\n",
        "stopwords = stopwords_list() + ['ها', 'های', 'ی']\n",
        "\n",
        "vectorizer_without_ngram = TfidfVectorizer(ngram_range=(1,1), tokenizer=word_tokenize,\n",
        "                                           stop_words=stopwords, analyzer='word')\n",
        "\n",
        "vectorizer = TfidfVectorizer(ngram_range=(1, 5), min_df=0.01, tokenizer=word_tokenize,\n",
        "                             stop_words=stopwords, analyzer='word')"
      ],
      "metadata": {
        "id": "JwAfnK96MADq"
      },
      "execution_count": null,
      "outputs": []
    },
    {
      "cell_type": "code",
      "source": [
        "def tfidf_extractor(texts, top=10, vectorizer=vectorizer):\n",
        "  candids = []\n",
        "  for text in texts:\n",
        "    X = vectorizer.fit_transform([text])\n",
        "\n",
        "    feature_names = vectorizer.get_feature_names_out()\n",
        "    tfidf_scores = X.toarray().sum(axis=0)\n",
        "\n",
        "    top_keywords = sorted(zip(feature_names, tfidf_scores), key=lambda x: x[1],\n",
        "                          reverse=True)[:top]\n",
        "    keyword, score = zip(*top_keywords)\n",
        "    candids.append(list(keyword))\n",
        "\n",
        "  return candids"
      ],
      "metadata": {
        "id": "u6C1I7eJlsVI"
      },
      "execution_count": null,
      "outputs": []
    },
    {
      "cell_type": "code",
      "source": [
        "# Preprocessed Texts\n",
        "with_chunking = preprocess(stemming=False, lemmatizing=False, reg_clean=False, tagging=True, remove_stopwords=True)\n",
        "without_chunking = preprocess(stemming=False, lemmatizing=False, reg_clean=False, tagging=False, remove_stopwords=True)"
      ],
      "metadata": {
        "id": "ZKIy4we6qrqB"
      },
      "execution_count": null,
      "outputs": []
    },
    {
      "cell_type": "code",
      "source": [
        "num_keywords = 10\n",
        "\n",
        "# baseline TF-IDF (no chunking and ngram)\n",
        "candids_without_ngram = tfidf_extractor(without_chunking, num_keywords, vectorizer_without_ngram)\n",
        "# TF-IDF with Ngram without chunking\n",
        "candids_without_chunking = tfidf_extractor(without_chunking, num_keywords)\n",
        "# TF-IDF with Ngram and chunking\n",
        "candids_chunking = tfidf_extractor(with_chunking, num_keywords)\n",
        "\n",
        "tfidf_score_without_ngram = []\n",
        "tfidf_score_without_chunk = []\n",
        "tfidf_score_chunk = []\n",
        "tfidf_score_ngram_f1 = []\n",
        "\n",
        "for i in range(len(candids_chunking)):\n",
        "  tfidf_score_without_ngram.append(evaluate(without_chunking[i], df.keywords.iloc[i]))\n",
        "  tfidf_score_without_chunk.append(evaluate(candids_without_chunking[i], df.keywords.iloc[i]))\n",
        "  tfidf_score_chunk.append(evaluate(candids_chunking[i], df.keywords.iloc[i]))\n",
        "  tfidf_score_ngram_f1.append(evaluate(candids_without_chunking[i], df.keywords.iloc[i], ngrams_=True))\n",
        "\n",
        "\n",
        "# Normal f1 score evaluations\n",
        "print(f'tfidf f1 score: without ngram: ', np.array(tfidf_score_without_ngram).mean(axis=0)[0])\n",
        "print(f'tfidf f1 score: without chunking: ', np.round(np.array(tfidf_score_without_chunk).mean(axis=0)[0], 4))\n",
        "print(f'tfidf f1 score: with chunking: ', np.round(np.array(tfidf_score_chunk).mean(axis=0)[0], 4))\n",
        "\n",
        "# adding Ngram evaluation\n",
        "print(f'tfidf f1 score: with chunking and not exact match references evaluation: ',\n",
        "      np.round(np.array(tfidf_score_ngram_f1).mean(axis=0)[0], 4))"
      ],
      "metadata": {
        "colab": {
          "base_uri": "https://localhost:8080/"
        },
        "id": "IlE2MukEqjYK",
        "outputId": "3807c0b3-daf6-49c5-f70b-d1a661bd2e45"
      },
      "execution_count": null,
      "outputs": [
        {
          "output_type": "stream",
          "name": "stderr",
          "text": [
            "/usr/local/lib/python3.10/dist-packages/sklearn/feature_extraction/text.py:528: UserWarning: The parameter 'token_pattern' will not be used since 'tokenizer' is not None'\n",
            "  warnings.warn(\n"
          ]
        },
        {
          "output_type": "stream",
          "name": "stdout",
          "text": [
            "tfidf f1 score: without ngram:  0.0\n",
            "tfidf f1 score: without chunking:  0.1687\n",
            "tfidf f1 score: with chunking:  0.1689\n",
            "tfidf f1 score: with chunking and not exact match references evaluation:  0.2049\n"
          ]
        }
      ]
    },
    {
      "cell_type": "code",
      "source": [
        "num_keys = []\n",
        "f1_scores, f1_scores_ngrams = [], []\n",
        "recall_scores, recall_ngrams = [], []\n",
        "percision_scores, percision_ngrams = [], []\n",
        "\n",
        "for k in range(4, 15):\n",
        "  tfidf_score = []\n",
        "  tfidf_score_ngrams = []\n",
        "  num_keys.append(k)\n",
        "  candids = tfidf_extractor(with_chunking, k)\n",
        "  for i in range(len(candids)):\n",
        "    tfidf_score.append(evaluate(candids[i], df.keywords.iloc[i], ngrams_=False))\n",
        "    tfidf_score_ngrams.append(evaluate(candids[i], df.keywords.iloc[i], ngrams_=True))\n",
        "\n",
        "  scores = np.array(tfidf_score).mean(axis=0)\n",
        "  f1_scores.append(scores[0])\n",
        "  recall_scores.append(scores[1])\n",
        "  percision_scores.append(scores[2])\n",
        "\n",
        "  scores_ngrams = np.array(tfidf_score_ngrams).mean(axis=0)\n",
        "  f1_scores_ngrams.append(scores_ngrams[0])\n",
        "  recall_ngrams.append(scores_ngrams[1])\n",
        "  percision_ngrams.append(scores_ngrams[2])\n",
        "\n",
        "  print(f'tfidf f1 score with {k} keyword ', np.round(scores[0], 4))\n",
        "  print(f'tfidf f1 score with {k} keyword not exact match evaluation',\n",
        "        np.round(scores_ngrams[0], 4))\n"
      ],
      "metadata": {
        "id": "jx6aactNv4_0",
        "colab": {
          "base_uri": "https://localhost:8080/"
        },
        "outputId": "bef7b493-c95c-4de1-9ac0-8a8d33fce9fb"
      },
      "execution_count": null,
      "outputs": [
        {
          "output_type": "stream",
          "name": "stderr",
          "text": [
            "/usr/local/lib/python3.10/dist-packages/sklearn/feature_extraction/text.py:528: UserWarning: The parameter 'token_pattern' will not be used since 'tokenizer' is not None'\n",
            "  warnings.warn(\n"
          ]
        },
        {
          "output_type": "stream",
          "name": "stdout",
          "text": [
            "tfidf f1 score with 4 keyword  0.1232\n",
            "tfidf f1 score with 4 keyword not exact match evaluation 0.1401\n",
            "tfidf f1 score with 5 keyword  0.1357\n",
            "tfidf f1 score with 5 keyword not exact match evaluation 0.1563\n",
            "tfidf f1 score with 6 keyword  0.1486\n",
            "tfidf f1 score with 6 keyword not exact match evaluation 0.1749\n",
            "tfidf f1 score with 7 keyword  0.1579\n",
            "tfidf f1 score with 7 keyword not exact match evaluation 0.1892\n",
            "tfidf f1 score with 8 keyword  0.1622\n",
            "tfidf f1 score with 8 keyword not exact match evaluation 0.1964\n",
            "tfidf f1 score with 9 keyword  0.1682\n",
            "tfidf f1 score with 9 keyword not exact match evaluation 0.2033\n",
            "tfidf f1 score with 10 keyword  0.1689\n",
            "tfidf f1 score with 10 keyword not exact match evaluation 0.2052\n",
            "tfidf f1 score with 11 keyword  0.1686\n",
            "tfidf f1 score with 11 keyword not exact match evaluation 0.2075\n",
            "tfidf f1 score with 12 keyword  0.1692\n",
            "tfidf f1 score with 12 keyword not exact match evaluation 0.2106\n",
            "tfidf f1 score with 13 keyword  0.1689\n",
            "tfidf f1 score with 13 keyword not exact match evaluation 0.2111\n",
            "tfidf f1 score with 14 keyword  0.167\n",
            "tfidf f1 score with 14 keyword not exact match evaluation 0.2101\n"
          ]
        }
      ]
    },
    {
      "cell_type": "code",
      "source": [
        "fig , axes = plt.subplots(1, 2, figsize=(14, 4), sharex=True, sharey=True)\n",
        "\n",
        "fig.suptitle('TF-IDF Analysis')\n",
        "axes[0].set_title('normal evaluation')\n",
        "axes[0].set_xlabel('Number Of Keywords', fontsize=13)\n",
        "axes[0].set_ylabel('Evaluation Score', fontsize=13)\n",
        "axes[0].plot(num_keys, f1_scores, label = 'f1', color='g')\n",
        "axes[0].plot(num_keys, recall_scores, label='recall', color='r')\n",
        "axes[0].plot(num_keys, percision_scores, label='percision', color='blue')\n",
        "axes[0].legend()\n",
        "\n",
        "axes[1].set_title('non exact match evaluation')\n",
        "axes[1].set_xlabel('Number Of Keywords', fontsize=13)\n",
        "axes[1].set_ylabel('Evaluation Score', fontsize=13)\n",
        "axes[1].plot(num_keys, f1_scores_ngrams, label='f1', color='y')\n",
        "axes[1].plot(num_keys, recall_ngrams, label='recall', color='r')\n",
        "axes[1].plot(num_keys, percision_ngrams, label='percision', color='blue')\n",
        "axes[1].legend()\n",
        "\n",
        "\n"
      ],
      "metadata": {
        "colab": {
          "base_uri": "https://localhost:8080/",
          "height": 453
        },
        "id": "_ZCOj-sn23c_",
        "outputId": "a33f90aa-2ca0-418d-c2ca-7c47b442aaea"
      },
      "execution_count": null,
      "outputs": [
        {
          "output_type": "execute_result",
          "data": {
            "text/plain": [
              "<matplotlib.legend.Legend at 0x7afc30dfe3b0>"
            ]
          },
          "metadata": {},
          "execution_count": 78
        },
        {
          "output_type": "display_data",
          "data": {
            "text/plain": [
              "<Figure size 1400x400 with 2 Axes>"
            ],
            "image/png": "[encoded data removed]"
          },
          "metadata": {}
        }
      ]
    },
    {
      "cell_type": "markdown",
      "source": [
        "## PerKe Algorithms:\n",
        "\n",
        "*   TopicRank:\n",
        "*   TextRank:\n",
        "*   SingleRank:\n",
        "*   PositionRank:\n",
        "*   MultipartiteRank:\n",
        "\n"
      ],
      "metadata": {
        "id": "d4brSznjz71_"
      }
    },
    {
      "cell_type": "code",
      "source": [
        "import multiprocessing\n",
        "import perke"
      ],
      "metadata": {
        "id": "kaTvq2HIRNmU"
      },
      "execution_count": null,
      "outputs": []
    },
    {
      "cell_type": "code",
      "source": [
        "def ke_topicRank(text):\n",
        "  valid_pos_tags = {'NOUN', 'NOUN,EZ', 'ADJ', 'ADJ,EZ'}\n",
        "  extractor = perke.unsupervised.graph_based.TopicRank()\n",
        "\n",
        "  extractor.load_text(input=text, word_normalization_method=None)\n",
        "  extractor.select_candidates()\n",
        "  extractor.weight_candidates(\n",
        "      threshold=0.67, metric='jaccard', linkage_method='average')\n",
        "\n",
        "  keyphrases = extractor.get_n_best(n=10)\n",
        "  candids, score = zip(*keyphrases)\n",
        "\n",
        "  return list(candids)\n",
        "\n",
        "\n",
        "def ke_textRank(text):\n",
        "  valid_pos_tags = {'NOUN', 'NOUN,EZ', 'ADJ', 'ADJ,EZ'}\n",
        "  extractor = perke.unsupervised.graph_based.TextRank()\n",
        "\n",
        "  extractor.load_text(text, word_normalization_method=None)\n",
        "  extractor.weight_candidates(window_size=3, top_t_percent=0.33)\n",
        "\n",
        "  keyphrases = extractor.get_n_best(n=10)\n",
        "  candids, score = zip(*keyphrases)\n",
        "\n",
        "  return list(candids)\n",
        "\n",
        "\n",
        "def ke_singleRank(text):\n",
        "  valid_pos_tags = {'NOUN', 'NOUN,EZ', 'ADJ', 'ADJ,EZ'}\n",
        "  extractor = perke.unsupervised.graph_based.SingleRank()\n",
        "\n",
        "  extractor.load_text(input=text, word_normalization_method=None)\n",
        "  extractor.select_candidates()\n",
        "  extractor.weight_candidates(window=10)\n",
        "\n",
        "  keyphrases = extractor.get_n_best(n=10)\n",
        "  candids, score = zip(*keyphrases)\n",
        "\n",
        "  return list(candids)\n",
        "\n",
        "\n",
        "def ke_positionRank(text):\n",
        "  # Define the grammar for selecting the keyphrase candidates\n",
        "  grammar = r\"\"\"\n",
        "      NP:\n",
        "          {<NOUN>}<VERB>\n",
        "      NP:\n",
        "          {<DET(,EZ)?|NOUN(,EZ)?|NUM(,EZ)?|ADJ(,EZ)|PRON><DET(,EZ)|NOUN(,EZ)|NUM(,EZ)|ADJ(,EZ)|PRON>*}\n",
        "          <NOUN>}{<.*(,EZ)?>\n",
        "  \"\"\"\n",
        "  valid_pos_tags = {'NOUN', 'NOUN,EZ', 'ADJ', 'ADJ,EZ'}\n",
        "  extractor = perke.unsupervised.graph_based.PositionRank()\n",
        "\n",
        "  extractor.load_text(\n",
        "      input=text, word_normalization_method=None,\n",
        "      universal_pos_tags=False,\n",
        "  )\n",
        "  extractor.select_candidates(grammar=grammar, maximum_word_number=3)\n",
        "  extractor.weight_candidates(window_size=10)\n",
        "\n",
        "  keyphrases = extractor.get_n_best(n=10)\n",
        "  candids, score = zip(*keyphrases)\n",
        "\n",
        "  return list(candids)\n",
        "\n",
        "\n",
        "def ke_multipartiteRank(text):\n",
        "  valid_pos_tags = {'NOUN', 'NOUN,EZ', 'ADJ', 'ADJ,EZ'}\n",
        "  extractor = perke.unsupervised.graph_based.MultipartiteRank()\n",
        "\n",
        "  extractor.load_text(input=text, word_normalization_method=None)\n",
        "  extractor.select_candidates()\n",
        "  extractor.weight_candidates(\n",
        "      threshold=0.70,\n",
        "      metric='jaccard',\n",
        "      linkage_method='average',\n",
        "      alpha=1.2,\n",
        "  )\n",
        "\n",
        "  keyphrases = extractor.get_n_best(n=10)\n",
        "  candids, score = zip(*keyphrases)\n",
        "\n",
        "  return list(candids)"
      ],
      "metadata": {
        "id": "YToHOv9RstT1"
      },
      "execution_count": null,
      "outputs": []
    },
    {
      "cell_type": "code",
      "source": [
        "# Number of processes to run in parallel\n",
        "num_processes = multiprocessing.cpu_count()\n",
        "\n",
        "# Create a multiprocessing pool\n",
        "pool = multiprocessing.Pool(processes=num_processes)\n",
        "\n",
        "s = time.time()\n",
        "# Perform keyword extraction for each text using multiprocessing\n",
        "results_topic = pool.map(ke_topicRank, all_texts[:25])\n",
        "results_text = pool.map(ke_textRank, all_texts[:25])\n",
        "results_single = pool.map(ke_singleRank, all_texts[:25])\n",
        "results_position = pool.map(ke_positionRank, all_texts[:25])\n",
        "results_multi = pool.map(ke_multipartiteRank, all_texts[:25])\n",
        "\n",
        "e = time.time()\n",
        "# Close the pool of processes\n",
        "pool.close()\n",
        "pool.join()\n",
        "print('performance time: ', e - s)"
      ],
      "metadata": {
        "id": "yA7EbSfwur0o"
      },
      "execution_count": null,
      "outputs": []
    },
    {
      "cell_type": "code",
      "source": [
        "topicRank, topicRank_ngrams = [], []\n",
        "textRank, textRank_ngrams= [], []\n",
        "singleRank, singleRank_ngrams = [], []\n",
        "positionRank, positionRank_ngrams = [], []\n",
        "multi, multi_ngrams = [], []\n",
        "\n",
        "for i in range(len(results_topic)):\n",
        "  references = df['keywords'].iloc[i]\n",
        "  topicRank.append(evaluate(results_topic[i], references))\n",
        "  textRank.append(evaluate(results_text[i], references))\n",
        "  singleRank.append(evaluate(results_single[i], references))\n",
        "  positionRank.append(evaluate(results_position[i], references))\n",
        "  multi.append(evaluate(results_multi[i], references))\n",
        "\n",
        "  topicRank_ngrams.append(evaluate(results_topic[i], references, ngrams_=True))\n",
        "  textRank_ngrams.append(evaluate(results_text[i], references, ngrams_=True))\n",
        "  singleRank_ngrams.append(evaluate(results_single[i], references, ngrams_=True))\n",
        "  positionRank_ngrams.append(evaluate(results_position[i], references, ngrams_=True))\n",
        "  multi_ngrams.append(evaluate(results_multi[i], references, ngrams_=True))\n",
        "\n",
        "print(\"Topic Rank mean f1 score is:\", np.mean(np.array(topicRank), axis=0)[0].round(4))\n",
        "print(\"Topic Rank f1 score non-exact match:\", np.mean(np.array(topicRank_ngrams), axis=0)[0].round(4))\n",
        "print()\n",
        "print(\"Text Rank mean f1 score is:\", np.mean(np.array(textRank), axis=0)[0].round(4))\n",
        "print(\"Text Rank f1 score non-exact match: \", np.mean(np.array(textRank_ngrams), axis=0)[0].round(4))\n",
        "print()\n",
        "print(\"Single Rank mean f1 score is:\", np.mean(np.array(singleRank), axis=0)[0].round(4))\n",
        "print(\"Single Rank f1 score non-exact match:\", np.mean(np.array(singleRank_ngrams), axis=0)[0].round(4))\n",
        "print()\n",
        "print(\"Position Rank mean f1 score is:\", np.mean(np.array(positionRank), axis=0)[0].round(4))\n",
        "print(\"Position Rank f1 score non-exact match:\", np.mean(np.array(positionRank_ngrams), axis=0)[0].round(4))\n",
        "print()\n",
        "print(\"Multipartite Rank mean f1 score is:\", np.mean(np.array(multi), axis=0)[0].round(4))\n",
        "print(\"Multipartite Rank f1 score non-exact match:\", np.mean(np.array(multi_ngrams), axis=0)[0].round(4))"
      ],
      "metadata": {
        "colab": {
          "base_uri": "https://localhost:8080/"
        },
        "id": "zTZsrO4TsgqI",
        "outputId": "ba8ef8b5-3970-4b7b-8818-823f2bd0ceed"
      },
      "execution_count": null,
      "outputs": [
        {
          "output_type": "stream",
          "name": "stdout",
          "text": [
            "Topic Rank mean f1 score is: 0.121\n",
            "Topic Rank f1 score non-exact match: 0.121\n",
            "\n",
            "Text Rank mean f1 score is: 0.1392\n",
            "Text Rank f1 score non-exact match:  0.1631\n",
            "\n",
            "Single Rank mean f1 score is: 0.0887\n",
            "Single Rank f1 score non-exact match: 0.094\n",
            "\n",
            "Position Rank mean f1 score is: 0.0508\n",
            "Position Rank f1 score non-exact match: 0.0706\n",
            "\n",
            "Multipartite Rank mean f1 score is: 0.1429\n",
            "Multipartite Rank f1 score non-exact match: 0.1429\n"
          ]
        }
      ]
    },
    {
      "cell_type": "markdown",
      "source": [
        "## Yake Algorithm:"
      ],
      "metadata": {
        "id": "GgYVaLhO1I11"
      }
    },
    {
      "cell_type": "code",
      "source": [
        "import yake\n",
        "from hazm import Normalizer\n",
        "\n",
        "normalizer = Normalizer()\n",
        "\n",
        "def yake_extractor(texts, top=10):\n",
        "  # Create a YAKE keyword extractor\n",
        "  kw_extractor = yake.KeywordExtractor(lan='fa', top=top)\n",
        "  candids = []\n",
        "  for text in texts:\n",
        "    text = normalizer.normalize(text)\n",
        "    keywords = kw_extractor.extract_keywords(text)\n",
        "\n",
        "    cand, score = zip(*keywords)\n",
        "    candids.append(list(cand))\n",
        "  return candids"
      ],
      "metadata": {
        "id": "RhwTkjCg3-xz"
      },
      "execution_count": null,
      "outputs": []
    },
    {
      "cell_type": "code",
      "source": [
        "clean_text = preprocess(stemming=False, lemmatizing=False, reg_clean=False,\n",
        "                         tagging=True, remove_stopwords=True)"
      ],
      "metadata": {
        "id": "5nv_NfkiwLZL"
      },
      "execution_count": null,
      "outputs": []
    },
    {
      "cell_type": "code",
      "source": [
        "\"\"\" comparing yake score with preprocessed text and raw text and new evaluation\"\"\"\n",
        "\n",
        "yake_score = []\n",
        "candids = yake_extractor(all_texts, 10)\n",
        "\n",
        "yake_score_eval = []\n",
        "candids_eval = yake_extractor(all_texts, 10)\n",
        "\n",
        "yake_score_clean = []\n",
        "candids_clean = yake_extractor(clean_text, 10)\n",
        "\n",
        "for i in range(len(candids)):\n",
        "  yake_score.append(evaluate(candids[i], df.keywords.iloc[i]))\n",
        "  yake_score_eval.append(evaluate(candids_eval[i], df.keywords.iloc[i], ngrams_=True))\n",
        "  yake_score_clean.append(evaluate(candids_clean[i], df.keywords.iloc[i]))\n",
        "\n",
        "print(f'yake f1 score with {10} keywords: (raw text) ',\n",
        "      np.array(yake_score).mean(axis=0)[0])\n",
        "print(f'yake f1 score with {10} keywords (raw text ngrams_evaluation): ',\n",
        "      np.array(yake_score_eval).mean(axis=0)[0])\n",
        "print(f'yake f1 score with {10} keywords: (preprocessed text)',\n",
        "      np.array(yake_score_clean).mean(axis=0)[0])\n"
      ],
      "metadata": {
        "colab": {
          "base_uri": "https://localhost:8080/"
        },
        "id": "-zslCXMUoGFN",
        "outputId": "38150eee-1b72-4199-924f-f84bc8c7fa9c"
      },
      "execution_count": null,
      "outputs": [
        {
          "output_type": "stream",
          "name": "stdout",
          "text": [
            "yake f1 score with 10 keywords: (raw text)  0.11639215299290676\n",
            "yake f1 score with 10 keywords (raw text ngrams_evaluation):  0.1683755958034012\n",
            "yake f1 score with 10 keywords: (preprocessed text) 0.040040661770638836\n"
          ]
        }
      ]
    },
    {
      "cell_type": "code",
      "source": [
        "num_keys = []\n",
        "f1_scores, f1_scores_ngrams = [], []\n",
        "recall_scores, recall_ngrams = [], []\n",
        "percision_scores, percision_ngrams = [], []\n",
        "\n",
        "for k in range(4, 15):\n",
        "  num_keys.append(k)\n",
        "\n",
        "  yake_score, yake_score_ngrams = [], []\n",
        "  candids = yake_extractor(all_texts, k)\n",
        "  for i in range(len(candids)):\n",
        "    yake_score.append(evaluate(candids[i], df.keywords.iloc[i]))\n",
        "    yake_score_ngrams.append(evaluate(candids[i], df.keywords.iloc[i], ngrams_=True))\n",
        "\n",
        "  scores = np.array(yake_score).mean(axis=0)\n",
        "  f1_scores.append(scores[0])\n",
        "  recall_scores.append(scores[1])\n",
        "  percision_scores.append(scores[2])\n",
        "\n",
        "  scores_ngrams = np.array(yake_score_ngrams).mean(axis=0)\n",
        "  f1_scores_ngrams.append(scores_ngrams[0])\n",
        "  recall_ngrams.append(scores_ngrams[1])\n",
        "  percision_ngrams.append(scores_ngrams[2])\n",
        "\n",
        "  print(f'yake f1 score with {k} keywords: ', np.round(scores[0], 4))\n",
        "  print(f'yake f1 score with {k} keywords: new eval ', np.round(scores_ngrams[0], 4))"
      ],
      "metadata": {
        "id": "LxST_CgC6tZc",
        "colab": {
          "base_uri": "https://localhost:8080/"
        },
        "outputId": "f0eb69fa-7f75-4f18-a76c-52b4450fb3f3"
      },
      "execution_count": null,
      "outputs": [
        {
          "output_type": "stream",
          "name": "stdout",
          "text": [
            "yake f1 score with 4 keywords:  0.0964\n",
            "yake f1 score with 4 keywords: new eval  0.135\n",
            "yake f1 score with 5 keywords:  0.103\n",
            "yake f1 score with 5 keywords: new eval  0.1486\n",
            "yake f1 score with 6 keywords:  0.1087\n",
            "yake f1 score with 6 keywords: new eval  0.158\n",
            "yake f1 score with 7 keywords:  0.1116\n",
            "yake f1 score with 7 keywords: new eval  0.1623\n",
            "yake f1 score with 8 keywords:  0.114\n",
            "yake f1 score with 8 keywords: new eval  0.1652\n",
            "yake f1 score with 9 keywords:  0.1132\n",
            "yake f1 score with 9 keywords: new eval  0.1651\n",
            "yake f1 score with 10 keywords:  0.1164\n",
            "yake f1 score with 10 keywords: new eval  0.1684\n",
            "yake f1 score with 11 keywords:  0.116\n",
            "yake f1 score with 11 keywords: new eval  0.1678\n",
            "yake f1 score with 12 keywords:  0.117\n",
            "yake f1 score with 12 keywords: new eval  0.1684\n",
            "yake f1 score with 13 keywords:  0.1171\n",
            "yake f1 score with 13 keywords: new eval  0.1695\n",
            "yake f1 score with 14 keywords:  0.1192\n",
            "yake f1 score with 14 keywords: new eval  0.1716\n"
          ]
        }
      ]
    },
    {
      "cell_type": "code",
      "source": [
        "fig , axes = plt.subplots(1, 2, figsize=(14, 4), sharey='row')\n",
        "\n",
        "fig.suptitle('Yake Analysis')\n",
        "axes[0].set_title('Normal Evaluation')\n",
        "axes[0].set_xlabel('Number of Keywords')\n",
        "axes[0].set_ylabel('Evaluation Score')\n",
        "axes[0].plot(num_keys, f1_scores,label = 'f1', color='g')\n",
        "axes[0].plot(num_keys, recall_scores, label='recall', color='r')\n",
        "axes[0].plot(num_keys, percision_scores, label='percision', color='blue')\n",
        "axes[0].legend()\n",
        "\n",
        "axes[1].set_title('non-exact match Evaluation')\n",
        "axes[1].set_xlabel('Number of Keywords')\n",
        "axes[1].plot(num_keys, f1_scores_ngrams,label = 'f1', color='y')\n",
        "axes[1].plot(num_keys, recall_ngrams, label='recall', color='r')\n",
        "axes[1].plot(num_keys, percision_ngrams, label='percision', color='blue')\n",
        "axes[1].legend()"
      ],
      "metadata": {
        "colab": {
          "base_uri": "https://localhost:8080/",
          "height": 453
        },
        "id": "MrSmd2jQhUI-",
        "outputId": "b277270e-79dd-4cba-e341-79cc9353b7de"
      },
      "execution_count": null,
      "outputs": [
        {
          "output_type": "execute_result",
          "data": {
            "text/plain": [
              "<matplotlib.legend.Legend at 0x7afd47531690>"
            ]
          },
          "metadata": {},
          "execution_count": 99
        },
        {
          "output_type": "display_data",
          "data": {
            "text/plain": [
              "<Figure size 1400x400 with 2 Axes>"
            ],
            "image/png": "[encoded data removed]"
          },
          "metadata": {}
        }
      ]
    },
    {
      "cell_type": "markdown",
      "source": [
        "# Embedding Rank"
      ],
      "metadata": {
        "id": "mXXL3zrqqdpX"
      }
    },
    {
      "cell_type": "markdown",
      "source": [
        "## SentEmbedding\n",
        "#### cosine similarity between candidates and sentence using Hazm example"
      ],
      "metadata": {
        "id": "CBPiz1QyoHre"
      }
    },
    {
      "cell_type": "code",
      "source": [
        "from hazm import SentEmbedding\n",
        "from sklearn.metrics.pairwise import cosine_similarity\n"
      ],
      "metadata": {
        "id": "Cykt9qe7qgTJ"
      },
      "execution_count": null,
      "outputs": []
    },
    {
      "cell_type": "code",
      "source": [
        "# text = df.body.iloc[0]\n",
        "# text = preprocess(stemming=False, lemmatizing=False, reg_clean=False, tagging=True, remove_stopwords=True)"
      ],
      "metadata": {
        "id": "s5RTRVFyrQfA"
      },
      "execution_count": null,
      "outputs": []
    },
    {
      "cell_type": "code",
      "source": [
        "grammers = [\n",
        "\"\"\"\n",
        "NP:\n",
        "        {<NOUN,EZ>?<NOUN.*>}    # Noun(s) + Noun(optional)\n",
        "\n",
        "\"\"\",\n",
        "\n",
        "\"\"\"\n",
        "NP:\n",
        "        {<NOUN.*><ADJ.*>?}    # Noun(s) + Adjective(optional)\n",
        "\n",
        "\"\"\"\n",
        "]\n",
        "## you can also add your own grammer to be extracted from the text..."
      ],
      "metadata": {
        "id": "fkosAL2GJ6oB"
      },
      "execution_count": null,
      "outputs": []
    },
    {
      "cell_type": "code",
      "source": [
        "def extract_candidates(tagged, grammer):\n",
        "    keyphrase_candidate = set()\n",
        "    np_parser = nltk.RegexpParser(grammer)\n",
        "    trees = np_parser.parse_sents(tagged)\n",
        "    for tree in trees:\n",
        "        for subtree in tree.subtrees(filter=lambda t: t.label() == 'NP'):\n",
        "            # For each nounphrase Concatenate the token with a space\n",
        "            keyphrase_candidate.add(' '.join(word for word, tag in subtree.leaves()))\n",
        "\n",
        "    keyphrase_candidate = {kp for kp in keyphrase_candidate if len(kp.split()) <= 5}\n",
        "    keyphrase_candidate = list(keyphrase_candidate)\n",
        "\n",
        "    return keyphrase_candidate"
      ],
      "metadata": {
        "id": "FPQGgZBoPZle"
      },
      "execution_count": null,
      "outputs": []
    },
    {
      "cell_type": "code",
      "source": [
        "sent2vec_model_path = './content/MyDrive/resources/Sent2Vec/sent2vec-naab.model'\n",
        "sent2vec_model = SentEmbedding(sent2vec_model_path)"
      ],
      "metadata": {
        "id": "QJzOEMP2RdWc"
      },
      "execution_count": null,
      "outputs": []
    },
    {
      "cell_type": "code",
      "source": [
        "text = df.body.iloc[0]\n",
        "\n",
        "all_candids = []\n",
        "for text in all_texts:\n",
        "  sent_pos_tag = tagger.tag_sents(word_tokenize(sent) for sent in sent_tokenize(text))\n",
        "\n",
        "  all_candidates = set()\n",
        "  for grammer in grammers:\n",
        "      all_candidates.update(extract_candidates(sent_pos_tag, grammer))\n",
        "\n",
        "  all_candids.append(np.array(list(all_candidates)))"
      ],
      "metadata": {
        "id": "OGNn9iJoQK9i"
      },
      "execution_count": null,
      "outputs": []
    },
    {
      "cell_type": "code",
      "source": [
        "# ruff: noqa\n",
        "\n",
        "import warnings\n",
        "\n",
        "import nltk\n",
        "import numpy as np\n",
        "import pandas as pd\n",
        "from sklearn.metrics.pairwise import cosine_similarity\n",
        "\n",
        "from hazm import SentEmbedding\n",
        "from hazm import POSTagger\n",
        "from hazm import Normalizer\n",
        "from hazm import word_tokenize\n",
        "from hazm import sent_tokenize\n",
        "\n",
        "\n",
        "grammers = [\n",
        "    \"\"\"\n",
        "NP:\n",
        "        {<NOUN,*>?<NOUN.*>}    # Noun(s) + Noun(optional)\n",
        "\n",
        "\"\"\",\n",
        "    \"\"\"\n",
        "NP:\n",
        "        {<NOUN.*><ADJ.*>?}    # Noun(s) + Adjective(optional)\n",
        "\n",
        "\"\"\",\n",
        "\n",
        "    \"\"\"\n",
        "NP:\n",
        "        {<NOUN.*>?<ADJ.*>?}    # Noun(s) + Adjective(optional)\n",
        "\n",
        "\"\"\",\n",
        "]\n",
        "normalizer = Normalizer()\n",
        "\n",
        "\n",
        "def tokenize(text):\n",
        "    normalizer = Normalizer()\n",
        "    return [\n",
        "        word_tokenize(sent)\n",
        "        for sent in sent_tokenize(normalizer.normalize(text))\n",
        "    ]\n",
        "\n",
        "def posTagger(text, pos_model_path=\"./content/MyDrive/resources/pos_tagger.model\", posTaggerModel=None):\n",
        "    tokens = tokenize(text)\n",
        "    tagger = POSTagger(pos_model_path) if posTaggerModel is None else posTaggerModel\n",
        "    return tagger.tag_sents(tokens)\n",
        "\n",
        "\n",
        "def extractGrammer(tagged_text, grammer):\n",
        "    keyphrase_candidate = set()\n",
        "    np_parser = nltk.RegexpParser(grammer)\n",
        "    trees = np_parser.parse_sents(tagged_text)\n",
        "    for tree in trees:\n",
        "        for subtree in tree.subtrees(\n",
        "            filter=lambda t: t.label() == \"NP\",\n",
        "        ):  # For each nounphrase\n",
        "            keyphrase_candidate.add(\" \".join(word for word, tag in subtree.leaves()))\n",
        "    keyphrase_candidate = {kp for kp in keyphrase_candidate if len(kp.split()) <= 5}\n",
        "    keyphrase_candidate = list(keyphrase_candidate)\n",
        "    return keyphrase_candidate\n",
        "\n",
        "\n",
        "def extractCandidates(tagged_text, grammers=grammers):\n",
        "    all_candidates = set()\n",
        "    for grammer in grammers:\n",
        "        all_candidates.update(extractGrammer(tagged_text, grammer))\n",
        "    return np.array(list(all_candidates))\n",
        "\n",
        "\n",
        "def text2vec(candidates, sent2vec_model_path=\"./content/MyDrive/resources/Sent2Vec/sent2vec-naab.model\", sent2vecModel=None):\n",
        "    sent2vec_model = (\n",
        "        SentEmbedding(sent2vec_model_path) if sent2vecModel is None else sent2vecModel\n",
        "    )\n",
        "    candidate_vector = [[sent2vec_model[candidate] for candidate in candidates]]\n",
        "    text_vector = sent2vec_model[\" \".join(candidates)]\n",
        "    return candidate_vector, text_vector\n",
        "\n",
        "\n",
        "def vectorSimilarity(candidates_vector, text_vector, norm=True):\n",
        "    candidate_sim_text = cosine_similarity(\n",
        "        candidates_vector[0],\n",
        "        text_vector.reshape(1, -1),\n",
        "    )\n",
        "    candidate_sim_candidate = cosine_similarity(candidates_vector[0])\n",
        "    if norm:\n",
        "        candidates_sim_text_norm = candidate_sim_text / np.max(candidate_sim_text)\n",
        "        candidates_sim_text_norm = 0.5 + (\n",
        "            candidates_sim_text_norm - np.average(candidates_sim_text_norm)\n",
        "        ) / np.std(candidates_sim_text_norm)\n",
        "        np.fill_diagonal(candidate_sim_candidate, np.NaN)\n",
        "        candidate_sim_candidate_norm = candidate_sim_candidate / np.nanmax(\n",
        "            candidate_sim_candidate,\n",
        "            axis=0,\n",
        "        )\n",
        "        candidate_sim_candidate_norm = 0.5 + (\n",
        "            candidate_sim_candidate_norm\n",
        "            - np.nanmean(candidate_sim_candidate_norm, axis=0)\n",
        "        ) / np.nanstd(candidate_sim_candidate_norm, axis=0)\n",
        "        return candidates_sim_text_norm, candidate_sim_candidate_norm\n",
        "    return candidate_sim_text, candidate_sim_candidate\n",
        "\n",
        "\n",
        "def embedRankExtraction(\n",
        "    all_candidates,\n",
        "    candidate_sim_text,\n",
        "    candidate_sim_candidate,\n",
        "    keyword_num=10,\n",
        "    beta=0.8,\n",
        "):\n",
        "    if len(all_candidates) < keyword_num:\n",
        "        warnings.warn(\n",
        "            (\n",
        "                f\"total number of keyword candidates is {len(all_candidates)}, which is\"\n",
        "                \" lower than your request keyword_num\"\n",
        "            ),\n",
        "        )\n",
        "\n",
        "    N = int(min(len(all_candidates), keyword_num))\n",
        "\n",
        "    selected_candidates = []\n",
        "    unselected_candidates = list(range(len(all_candidates)))\n",
        "    best_candidate = np.argmax(candidate_sim_text)\n",
        "    selected_candidates.append(best_candidate)\n",
        "    unselected_candidates.remove(best_candidate)\n",
        "\n",
        "    for _i in range(N - 1):\n",
        "        selected_vec = np.array(selected_candidates)\n",
        "        unselected_vec = np.array(unselected_candidates)\n",
        "\n",
        "        unselected_candidate_sim_text = candidate_sim_text[unselected_vec, :]\n",
        "\n",
        "        dist_between = candidate_sim_candidate[unselected_vec][:, selected_vec]\n",
        "\n",
        "        if dist_between.ndim == 1:\n",
        "            dist_between = dist_between[:, np.newaxis]\n",
        "\n",
        "        best_candidate = np.argmax(\n",
        "            beta * unselected_candidate_sim_text\n",
        "            - (1 - beta) * np.max(dist_between, axis=1).reshape(-1, 1),\n",
        "        )\n",
        "        best_index = unselected_candidates[best_candidate]\n",
        "        selected_candidates.append(best_index)\n",
        "        unselected_candidates.remove(best_index)\n",
        "    return all_candidates[selected_candidates].tolist()\n",
        "\n",
        "\n",
        "def extractKeyword(candidates, keyword_num=5, sent2vecModel=None):\n",
        "    candidates_vector, text_vector = text2vec(candidates, sent2vecModel=sent2vecModel)\n",
        "    candidate_sim_text_norm, candidate_sim_candidate_norm = vectorSimilarity(\n",
        "        candidates_vector,\n",
        "        text_vector,\n",
        "    )\n",
        "    return embedRankExtraction(\n",
        "        candidates,\n",
        "        candidate_sim_text_norm,\n",
        "        candidate_sim_candidate_norm,\n",
        "        keyword_num,\n",
        "    )\n",
        "\n",
        "\n",
        "def embedRank(text, keyword_num, sent2vecModel=None, posTaggerModel=None):\n",
        "    token_tag = posTagger(text, posTaggerModel=posTaggerModel)\n",
        "    candidates = extractCandidates(token_tag)\n",
        "    return extractKeyword(candidates, keyword_num, sent2vecModel=sent2vecModel)\n",
        "\n"
      ],
      "metadata": {
        "id": "cvOjfLfDn1Eb"
      },
      "execution_count": null,
      "outputs": []
    },
    {
      "cell_type": "code",
      "source": [
        "all_keyword = []\n",
        "for text in all_texts:\n",
        "  keyword_num = 10\n",
        "  keywords = embedRank(text, keyword_num)\n",
        "  all_keyword.append(keywords)"
      ],
      "metadata": {
        "id": "67tdlhUJOGdT"
      },
      "execution_count": null,
      "outputs": []
    },
    {
      "cell_type": "code",
      "source": [
        "len(all_keyword)\n",
        "# 20 min\n",
        "all_keyword"
      ],
      "metadata": {
        "id": "EpJV03aMDn0p"
      },
      "execution_count": null,
      "outputs": []
    },
    {
      "cell_type": "code",
      "source": [
        "emb_scores = []\n",
        "\n",
        "for i in range(len(all_keyword)):\n",
        "  emb_scores.append(evaluate(all_keyword[i], df.keywords.iloc[i], ngrams=True))\n",
        "\n",
        "print(f'embedding f1 score with {10} keywords (raw): ', np.array(emb_scores).mean(axis=0)[0])"
      ],
      "metadata": {
        "colab": {
          "base_uri": "https://localhost:8080/"
        },
        "id": "NfWVOFmq_fZr",
        "outputId": "2043907e-a4fa-4eed-aa2e-6c6731c1706c"
      },
      "execution_count": null,
      "outputs": [
        {
          "output_type": "stream",
          "name": "stdout",
          "text": [
            "embedding f1 score with 10 keywords (raw):  0.05461037833726704\n"
          ]
        }
      ]
    },
    {
      "cell_type": "markdown",
      "source": [
        "## Bert Embedding\n",
        "#### Sentence Transformers and bert"
      ],
      "metadata": {
        "id": "lfUW6ND3oYl6"
      }
    },
    {
      "cell_type": "code",
      "source": [
        "from keybert import KeyBERT\n",
        "from sklearn.feature_extraction.text import CountVectorizer\n",
        "from hazm.utils import stopwords_list\n"
      ],
      "metadata": {
        "id": "dHtKxcn8XkYM"
      },
      "execution_count": null,
      "outputs": []
    },
    {
      "cell_type": "code",
      "source": [
        "stopwords = stopwords_list() + ['ها', 'های', 'ی']\n",
        "\n",
        "bert_vectorizer = CountVectorizer(ngram_range=(1, 2), tokenizer=word_tokenize,\n",
        "                             stop_words=stopwords, analyzer='word')"
      ],
      "metadata": {
        "id": "MgAtEsPtXnre"
      },
      "execution_count": null,
      "outputs": []
    },
    {
      "cell_type": "code",
      "source": [
        "# kw_model = KeyBERT(model=\"paraphrase-multilingual-MiniLM-L12-v2\")\n",
        "# kw_model = KeyBERT(model=\"HooshvareLab/bert-fa-base-uncased\")\n",
        "kw_model = KeyBERT(model=\"sharif-dal/dal-bert\")"
      ],
      "metadata": {
        "id": "s2csiYZfk3OC"
      },
      "execution_count": null,
      "outputs": []
    },
    {
      "cell_type": "code",
      "source": [
        "doc_embeddings, word_embeddings = kw_model.extract_embeddings(df.body.iloc[0], vectorizer=bert_vectorizer)"
      ],
      "metadata": {
        "colab": {
          "base_uri": "https://localhost:8080/"
        },
        "id": "as0l5rWtMw0v",
        "outputId": "4aa999f6-bf8d-4f11-d374-1d193aa9f007"
      },
      "execution_count": null,
      "outputs": [
        {
          "output_type": "stream",
          "name": "stderr",
          "text": [
            "/usr/local/lib/python3.10/dist-packages/sklearn/feature_extraction/text.py:528: UserWarning: The parameter 'token_pattern' will not be used since 'tokenizer' is not None'\n",
            "  warnings.warn(\n"
          ]
        }
      ]
    },
    {
      "cell_type": "code",
      "source": [
        "text_clean = preprocess(stemming=False, lemmatizing=False, reg_clean=True, tagging=True, remove_stopwords=True)"
      ],
      "metadata": {
        "id": "GKo2YrSaZa6t"
      },
      "execution_count": null,
      "outputs": []
    },
    {
      "cell_type": "code",
      "source": [
        "candids_raw = kw_model.extract_keywords(df.body.iloc[0], candidates=candidates, top_n=10, diversity=0.5)\n",
        "# candids = kw_model.extract_keywords(text_clean, vectorizer=vectorizer, top_n=10)"
      ],
      "metadata": {
        "id": "tOZclmMXZPac"
      },
      "execution_count": null,
      "outputs": []
    },
    {
      "cell_type": "code",
      "source": [
        "bert_scores_raw = []\n",
        "bert_scores = []\n",
        "\n",
        "for i in range(len(candids)):\n",
        "  candids_n = [c[0] for c in candids_raw[i]]\n",
        "  bert_scores_raw.append(evaluate(candids_n, df.keywords.iloc[i], ngrams_=True))\n",
        "\n",
        "  # candids_n = [c[0] for c in candids[i]]\n",
        "  # bert_scores.append(evaluate(candids_n, df.keywords.iloc[i], ngrams=True))\n",
        "\n",
        "print(f'bert_key f1 score with {10} keywords (raw): ', np.array(bert_scores_raw).mean(axis=0)[0])\n",
        "# print(f'bert_key f1 score with {10} keywords: ', np.array(bert_scores).mean(axis=0)[0])"
      ],
      "metadata": {
        "colab": {
          "base_uri": "https://localhost:8080/"
        },
        "id": "ttWBjSUsf2EB",
        "outputId": "e84cf308-0127-4b3c-bf48-3cd4bf11384b"
      },
      "execution_count": null,
      "outputs": [
        {
          "output_type": "stream",
          "name": "stdout",
          "text": [
            "bert_key f1 score with 10 keywords (raw):  0.10383055466990043\n"
          ]
        }
      ]
    },
    {
      "cell_type": "code",
      "source": [
        "# bert_key f1 score with 10 keywords (raw):  0.09926484607309748\n",
        "# bert_key f1 score with 10 keywords:  0.0906416543253936"
      ],
      "metadata": {
        "id": "UtLuPHRlUqOL"
      },
      "execution_count": null,
      "outputs": []
    },
    {
      "cell_type": "code",
      "source": [
        "test_candids = kw_model.extract_keywords(all_texts[:50], vectorizer=bert_vectorizer,\n",
        "                                         diversity=0.75, top_n=10)"
      ],
      "metadata": {
        "colab": {
          "base_uri": "https://localhost:8080/"
        },
        "id": "ADQDdDd-gM9X",
        "outputId": "3d7b018d-3571-4c65-c458-9a62334e441e"
      },
      "execution_count": null,
      "outputs": [
        {
          "output_type": "stream",
          "name": "stderr",
          "text": [
            "/usr/local/lib/python3.10/dist-packages/sklearn/feature_extraction/text.py:528: UserWarning: The parameter 'token_pattern' will not be used since 'tokenizer' is not None'\n",
            "  warnings.warn(\n"
          ]
        }
      ]
    },
    {
      "cell_type": "code",
      "source": [
        "bert_scores = []\n",
        "\n",
        "for i in range(len(test_candids)):\n",
        "  candids_n = [c[0] for c in test_candids[i]]\n",
        "  bert_scores.append(evaluate(candids_n, df.keywords.iloc[i], ngrams_=False))\n",
        "\n",
        "print(f'bert_key f1 score with {10} keywords (raw): ', np.array(bert_scores).mean(axis=0)[0])\n"
      ],
      "metadata": {
        "colab": {
          "base_uri": "https://localhost:8080/"
        },
        "id": "g0SDHJghrEww",
        "outputId": "65f64b13-905a-47f5-9568-1cd6d1a5cd31"
      },
      "execution_count": null,
      "outputs": [
        {
          "output_type": "stream",
          "name": "stdout",
          "text": [
            "bert_key f1 score with 10 keywords (raw):  0.08516464237516867\n"
          ]
        }
      ]
    },
    {
      "cell_type": "code",
      "source": [],
      "metadata": {
        "id": "BLIizpsGkZps"
      },
      "execution_count": null,
      "outputs": []
    }
  ],
  "metadata": {
    "colab": {
      "provenance": [],
      "gpuType": "T4",
      "authorship_tag": "ABX9TyNmXDDyPRK/HafmidFxngA3",
      "include_colab_link": true
    },
    "kernelspec": {
      "display_name": "Python 3",
      "name": "python3"
    },
    "language_info": {
      "name": "python"
    },
    "accelerator": "GPU"
  },
  "nbformat": 4,
  "nbformat_minor": 0
}