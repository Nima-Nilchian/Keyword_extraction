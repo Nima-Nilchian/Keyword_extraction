{
  "cells": [
    {
      "cell_type": "markdown",
      "metadata": {
        "id": "view-in-github",
        "colab_type": "text"
      },
      "source": [
        "<a href=\"https://colab.research.google.com/github/Nima-Nilchian/Keyword_extraction/blob/master/Keyword_extraction.ipynb\" target=\"_parent\"><img src=\"https://colab.research.google.com/assets/colab-badge.svg\" alt=\"Open In Colab\"/></a>"
      ]
    },
    {
      "cell_type": "markdown",
      "metadata": {
        "id": "SXdlZlPAaHMf"
      },
      "source": [
        "# Keyword Extraction\n",
        "\n",
        "# استخراج عبارت‌های کلیدی متن"
      ]
    },
    {
      "cell_type": "markdown",
      "metadata": {
        "id": "EyUqG5oGVktL"
      },
      "source": [
        "<p align=\"right\">\n",
        "ارزیابی روش‌ها مورد استفاده قرار خواهد گرفت. علاوه بر گزارش نتایج برای هر یک از روش‌ها با استفاده از مجموعه داده، نمونه‌هایی از خروجی را هم برای هر روش گزارش کرده و به صورت شهودی نیز مقایسه‌ای انجام دهید. همچنین سرعت روش‌های پیاده‌سازی شده نیز نیاز به مقایسه دارد.\n",
        "</p>\n",
        "<p align=\"right\">\n",
        ":روش‌های زیر را پیاده‌سازی و طبق روال بالا ارزیابی و مقایسه کنید\n",
        "</p>\n",
        "\n",
        "*   baseline (TF-IDF)\n",
        "*   TF-IDF with Ngrams\n",
        "*   TF-IDF with chunking\n",
        "*   KP-Miner\n",
        "*   Yake\n",
        "*   TextRank\n",
        "*   SingleRank\n",
        "*   TopicRank\n",
        "*   TopicalPageRank\n",
        "*   PositionRank\n",
        "*   MultipartiteRank\n",
        "*   scake\n",
        "*   sgrank\n",
        "\n",
        "\n",
        "\n",
        "\n",
        "\n",
        "\n",
        "\n",
        "\n",
        "\n"
      ]
    },
    {
      "cell_type": "markdown",
      "metadata": {
        "id": "4OhOIh7UbHh6"
      },
      "source": [
        "# Reading and preproccessing Data"
      ]
    },
    {
      "cell_type": "code",
      "execution_count": null,
      "metadata": {
        "id": "A7HKTRH57yfI"
      },
      "outputs": [],
      "source": [
        "!pip install git+https://github.com/boudinfl/pke.git\n",
        "!pip install perke\n",
        "!python -m perke download\n",
        "!pip install yake"
      ]
    },
    {
      "cell_type": "code",
      "execution_count": 1,
      "metadata": {
        "id": "sDISdg5ibZuX"
      },
      "outputs": [],
      "source": [
        "import numpy as np\n",
        "import pandas as pd\n",
        "import json\n",
        "import string\n",
        "import perke\n",
        "import time\n",
        "import multiprocessing\n",
        "from hazm import *\n",
        "\n",
        "import matplotlib.pyplot as plt\n",
        "import seaborn as sns\n",
        "sns.set_theme()\n",
        "\n",
        "import yake\n",
        "import re"
      ]
    },
    {
      "cell_type": "code",
      "execution_count": 2,
      "metadata": {
        "id": "hIA0d1k-bO_c",
        "colab": {
          "base_uri": "https://localhost:8080/"
        },
        "outputId": "6147c701-6c17-4218-e6f5-aa0b5b571034"
      },
      "outputs": [
        {
          "output_type": "stream",
          "name": "stdout",
          "text": [
            "Mounted at ./content\n"
          ]
        }
      ],
      "source": [
        "from google.colab import drive\n",
        "drive.mount(\"./content\")"
      ]
    },
    {
      "cell_type": "code",
      "execution_count": null,
      "metadata": {
        "id": "lRg3zK-bcxL6"
      },
      "outputs": [],
      "source": [
        "data_loc = './content/MyDrive/datasets/ke/ke_dataset.txt'\n",
        "\n",
        "df = pd.DataFrame()\n",
        "with open(data_loc, 'r') as f:\n",
        "  for line in f.readlines():\n",
        "    json_data = json.loads(line.strip())\n",
        "    df = pd.concat([df, pd.DataFrame([json_data])], ignore_index=True)\n",
        "\n",
        "df.drop('id', axis=1, inplace=True)\n",
        "all_texts = df['body'].tolist()"
      ]
    },
    {
      "cell_type": "code",
      "source": [
        "exist_keywords = []\n",
        "c = 0\n",
        "for i in range(len(df)):\n",
        "  keywords = [k for k in df.keywords.iloc[i] if k in df.body.iloc[i]]\n",
        "  exist_keywords.append(keywords)\n",
        "\n",
        "# df['existing_keywords'] = exist_keywords\n",
        "# df"
      ],
      "metadata": {
        "id": "Iq10y8-jnsk9"
      },
      "execution_count": null,
      "outputs": []
    },
    {
      "cell_type": "code",
      "source": [
        "stopwords = stopwords_list() + ['ها', 'های', 'ی']\n",
        "\n",
        "normalizer = Normalizer()\n",
        "stemmer = Stemmer()\n",
        "lemmatizer = Lemmatizer()\n",
        "\n",
        "tagger = POSTagger(model='./content/MyDrive/resources/pos_tagger.model')\n",
        "\n",
        "def preprocess(stemming=True, lemmatizing=False, reg_clean=False, tagging=True, remove_stopwords=True):\n",
        "  df['clean_text'] = df['body'].apply(lambda sample: normalizer.normalize(sample))\n",
        "  if stemming:\n",
        "    df['clean_text'] = df['clean_text'].apply(lambda sample: stemmer.stem(sample))\n",
        "  if lemmatizing:\n",
        "    df['clean_text'] = df['clean_text'].apply(lambda sample: lemmatizer.lemmatize(sample))\n",
        "\n",
        "  if reg_clean:\n",
        "    df['clean_text'] = df['clean_text'].apply(lambda sample: re.sub(r\"[^\\w\\s]\", ' ', sample))\n",
        "    df['clean_text'] = df['clean_text'].apply(lambda sample: re.sub(r\"\\d\", ' ', sample))\n",
        "    df['clean_text'] = df['clean_text'].apply(lambda sample: re.sub(r\"\\s+\", ' ', sample))\n",
        "\n",
        "  if tagging:\n",
        "    df[\"clean_text\"] = df[\"body\"].apply(lambda sample:[word[0] for word in tagger.tag(word_tokenize(sample)) if word[1] in {'NOUN,EZ':'', 'NOUN':'', 'ADJ':'', 'ADJ,EZ':''}])\n",
        "  else:\n",
        "    df[\"clean_text\"] = df[\"clean_text\"].apply(lambda r: [w for w in word_tokenize(r)])\n",
        "\n",
        "  if remove_stopwords:\n",
        "    df['clean_text'] = df[\"clean_text\"].apply(lambda sample:[word for word in sample\n",
        "                                                          if word not in stopwords and len(word) > 1\n",
        "                                                          and not word.isdigit()])\n",
        "\n",
        "  clean_text = df.clean_text.values.tolist()\n",
        "  train_data = [' '.join(word for word in text).strip() for text in clean_text]\n",
        "  df.drop(columns='clean_text', inplace=True)\n",
        "\n",
        "  return train_data"
      ],
      "metadata": {
        "id": "NZ-ywLZOecas"
      },
      "execution_count": null,
      "outputs": []
    },
    {
      "cell_type": "markdown",
      "source": [
        "# Metrics\n",
        "\n",
        "first we evaluated models with f1-score"
      ],
      "metadata": {
        "id": "NnNXNjqcyIXF"
      }
    },
    {
      "cell_type": "code",
      "source": [
        "def evaluate(candidates, references):\n",
        "    if len(references) == 0:\n",
        "      return 0.5\n",
        "\n",
        "    r = len(set(references) & set(candidates)) / len(set(references))\n",
        "    p = len(set(references) & set(candidates)) / len(set(candidates))\n",
        "\n",
        "    if p == 0 or r == 0:\n",
        "      return [0, 0, 0]\n",
        "\n",
        "    return [(2*p*r) / (p+r), r, p]"
      ],
      "metadata": {
        "id": "KHaHuIdhscif"
      },
      "execution_count": null,
      "outputs": []
    },
    {
      "cell_type": "code",
      "source": [
        "# !pip install rouge"
      ],
      "metadata": {
        "id": "OhYA8EpyGitI"
      },
      "execution_count": null,
      "outputs": []
    },
    {
      "cell_type": "code",
      "source": [
        "df.keywords.iloc[0]"
      ],
      "metadata": {
        "colab": {
          "base_uri": "https://localhost:8080/"
        },
        "id": "RkjAI_XzIYM8",
        "outputId": "dea34f60-2f12-4642-9452-a06f8fef32f9"
      },
      "execution_count": null,
      "outputs": [
        {
          "output_type": "execute_result",
          "data": {
            "text/plain": [
              "['فقه الحدیث',\n",
              " 'معانی الاخبار',\n",
              " 'روش فقه الحدیثی',\n",
              " 'چینش هندسی روایات',\n",
              " 'شیخ صدوق',\n",
              " 'مبانی فقه الحدیثی']"
            ]
          },
          "metadata": {},
          "execution_count": 10
        }
      ]
    },
    {
      "cell_type": "code",
      "source": [],
      "metadata": {
        "id": "gMQ7ZHtZGxFs"
      },
      "execution_count": null,
      "outputs": []
    },
    {
      "cell_type": "markdown",
      "source": [
        "# Models and algorithm implementations"
      ],
      "metadata": {
        "id": "QJweshAgye5t"
      }
    },
    {
      "cell_type": "markdown",
      "source": [
        "## TF-IDF\n",
        "\n",
        "iamfakfd"
      ],
      "metadata": {
        "id": "MXOgK7sI0udy"
      }
    },
    {
      "cell_type": "code",
      "source": [
        "from sklearn.feature_extraction.text import TfidfVectorizer\n",
        "\n",
        "stopwords = stopwords_list() + ['ها', 'های', 'ی']\n",
        "\n",
        "vectorizer = TfidfVectorizer(ngram_range=(1, 4), min_df=0.01, tokenizer=word_tokenize, stop_words=stopwords, analyzer='word')"
      ],
      "metadata": {
        "id": "JwAfnK96MADq"
      },
      "execution_count": null,
      "outputs": []
    },
    {
      "cell_type": "code",
      "source": [
        "def tfidf_extractor(texts, top):\n",
        "  candids = []\n",
        "  for text in texts:\n",
        "    X = vectorizer.fit_transform([text])\n",
        "\n",
        "    feature_names = vectorizer.get_feature_names_out()\n",
        "    tfidf_scores = X.toarray().sum(axis=0)\n",
        "\n",
        "    top_keywords = sorted(zip(feature_names, tfidf_scores), key=lambda x: x[1], reverse=True)[:top]\n",
        "    keyword, score = zip(*top_keywords)\n",
        "    candids.append(list(keyword))\n",
        "  return candids"
      ],
      "metadata": {
        "id": "u6C1I7eJlsVI"
      },
      "execution_count": null,
      "outputs": []
    },
    {
      "cell_type": "code",
      "source": [
        "with_chunking = preprocess(stemming=True, lemmatizing=False, reg_clean=True, tagging=True, remove_stopwords=True)\n",
        "without_chunking = preprocess(stemming=True, lemmatizing=False, reg_clean=True, tagging=False, remove_stopwords=True)"
      ],
      "metadata": {
        "id": "ZKIy4we6qrqB"
      },
      "execution_count": null,
      "outputs": []
    },
    {
      "cell_type": "code",
      "source": [
        "candids_chunking = tfidf_extractor(with_chunking, 10)\n",
        "candids_without_chunking = tfidf_extractor(without_chunking, 10)\n",
        "\n",
        "tfidf_score1 = []\n",
        "tfidf_score2 = []\n",
        "\n",
        "for i in range(len(candids_chunking)):\n",
        "  tfidf_score1.append(evaluate(candids_chunking[i], df.keywords.iloc[i]))\n",
        "  tfidf_score2.append(evaluate(candids_without_chunking[i], df.keywords.iloc[i]))\n",
        "\n",
        "print(f'tfidf f1 score: with chunking  ', np.array(tfidf_score1).mean(axis=0)[0])\n",
        "print(f'tfidf f1 score: without chunking  ', np.array(tfidf_score2).mean(axis=0)[0])"
      ],
      "metadata": {
        "colab": {
          "base_uri": "https://localhost:8080/"
        },
        "id": "IlE2MukEqjYK",
        "outputId": "f627c2a0-46fa-469a-d172-1e6840d9391e"
      },
      "execution_count": null,
      "outputs": [
        {
          "output_type": "stream",
          "name": "stderr",
          "text": [
            "/usr/local/lib/python3.10/dist-packages/sklearn/feature_extraction/text.py:528: UserWarning: The parameter 'token_pattern' will not be used since 'tokenizer' is not None'\n",
            "  warnings.warn(\n"
          ]
        },
        {
          "output_type": "stream",
          "name": "stdout",
          "text": [
            "tfidf f1 score: with chunking   0.16321622809420647\n",
            "tfidf f1 score: without chunking   0.15454976519502936\n"
          ]
        }
      ]
    },
    {
      "cell_type": "code",
      "source": [
        "num_keys = []\n",
        "f1_scores = []\n",
        "recall_scores = []\n",
        "percision_scores = []\n",
        "\n",
        "for k in range(4, 15):\n",
        "  tfidf_score = []\n",
        "  num_keys.append(k)\n",
        "  candids = tfidf_extractor(with_chunking, k)\n",
        "  for i in range(len(candids)):\n",
        "    tfidf_score.append(evaluate(candids[i], df.keywords.iloc[i]))\n",
        "\n",
        "  s = np.array(tfidf_score).mean(axis=0)\n",
        "  f1_scores.append(s[0])\n",
        "  recall_scores.append(s[1])\n",
        "  percision_scores.append(s[2])\n",
        "\n",
        "  print(f'tfidf f1 score: with {k} keyword ', np.array(tfidf_score).mean(axis=0)[0])"
      ],
      "metadata": {
        "id": "jx6aactNv4_0",
        "colab": {
          "base_uri": "https://localhost:8080/"
        },
        "outputId": "6f113418-b59e-4ea1-e62b-a917258babf0"
      },
      "execution_count": null,
      "outputs": [
        {
          "output_type": "stream",
          "name": "stdout",
          "text": [
            "tfidf f1 score: with 4 keyword  0.11891757987836406\n",
            "tfidf f1 score: with 5 keyword  0.13039498999326837\n",
            "tfidf f1 score: with 6 keyword  0.14723962900227094\n",
            "tfidf f1 score: with 7 keyword  0.15394417713789163\n",
            "tfidf f1 score: with 8 keyword  0.1566288977047492\n",
            "tfidf f1 score: with 9 keyword  0.16195413388454177\n",
            "tfidf f1 score: with 10 keyword  0.16321622809420647\n",
            "tfidf f1 score: with 11 keyword  0.16079451654754107\n",
            "tfidf f1 score: with 12 keyword  0.16114633420900784\n",
            "tfidf f1 score: with 13 keyword  0.16207232692112034\n",
            "tfidf f1 score: with 14 keyword  0.15979097577536763\n"
          ]
        }
      ]
    },
    {
      "cell_type": "code",
      "source": [
        "fig , axes = plt.subplots()\n",
        "\n",
        "axes.set_title('tfidf analysis')\n",
        "axes.set_xlabel('num keywords', fontsize=13)\n",
        "axes.set_ylabel('evaluation score', fontsize=13)\n",
        "axes.plot(num_keys, f1_scores, label = 'f1', color='g')\n",
        "axes.plot(num_keys, recall_scores, label='recall', color='r')\n",
        "axes.plot(num_keys, percision_scores, label='percision', color='blue')\n",
        "\n",
        "axes.legend()"
      ],
      "metadata": {
        "colab": {
          "base_uri": "https://localhost:8080/",
          "height": 497
        },
        "id": "_ZCOj-sn23c_",
        "outputId": "b75ef516-4cd3-414f-ba46-35e9a736fda7"
      },
      "execution_count": null,
      "outputs": [
        {
          "output_type": "execute_result",
          "data": {
            "text/plain": [
              "<matplotlib.legend.Legend at 0x7d01f978c130>"
            ]
          },
          "metadata": {},
          "execution_count": 11
        },
        {
          "output_type": "display_data",
          "data": {
            "text/plain": [
              "<Figure size 640x480 with 1 Axes>"
            ],
            "image/png": "[encoded data removed]"
          },
          "metadata": {}
        }
      ]
    },
    {
      "cell_type": "markdown",
      "source": [
        "## implemented with PerKe ...\n",
        "\n",
        "*   TopicRank:\n",
        "*   TextRank:\n",
        "*   SingleRank:\n",
        "*   PositionRank:\n",
        "*   MultipartiteRank:\n",
        "\n"
      ],
      "metadata": {
        "id": "d4brSznjz71_"
      }
    },
    {
      "cell_type": "code",
      "source": [
        "def ke_topicRank(text):\n",
        "  valid_pos_tags = {'NOUN', 'NOUN,EZ', 'ADJ', 'ADJ,EZ'}\n",
        "  extractor = perke.unsupervised.graph_based.TopicRank()\n",
        "\n",
        "  extractor.load_text(input=text, word_normalization_method=None)\n",
        "  extractor.select_candidates()\n",
        "  extractor.weight_candidates(\n",
        "      threshold=0.67, metric='jaccard', linkage_method='average')\n",
        "\n",
        "  keyphrases = extractor.get_n_best(n=10)\n",
        "  candids, score = zip(*keyphrases)\n",
        "\n",
        "  return list(candids)\n",
        "\n",
        "\n",
        "def ke_textRank(text):\n",
        "  valid_pos_tags = {'NOUN', 'NOUN,EZ', 'ADJ', 'ADJ,EZ'}\n",
        "  extractor = perke.unsupervised.graph_based.TextRank()\n",
        "\n",
        "  extractor.load_text(text, word_normalization_method=None)\n",
        "  extractor.weight_candidates(window_size=3, top_t_percent=0.33)\n",
        "\n",
        "  keyphrases = extractor.get_n_best(n=10)\n",
        "  candids, score = zip(*keyphrases)\n",
        "\n",
        "  return list(candids)\n",
        "\n",
        "\n",
        "def ke_singleRank(text):\n",
        "  valid_pos_tags = {'NOUN', 'NOUN,EZ', 'ADJ', 'ADJ,EZ'}\n",
        "  extractor = perke.unsupervised.graph_based.SingleRank()\n",
        "\n",
        "  extractor.load_text(input=text, word_normalization_method=None)\n",
        "  extractor.select_candidates()\n",
        "  extractor.weight_candidates(window=10)\n",
        "\n",
        "  keyphrases = extractor.get_n_best(n=10)\n",
        "  candids, score = zip(*keyphrases)\n",
        "\n",
        "  return list(candids)\n",
        "\n",
        "\n",
        "def ke_positionRank(text):\n",
        "  # Define the grammar for selecting the keyphrase candidates\n",
        "  grammar = r\"\"\"\n",
        "      NP:\n",
        "          {<NOUN>}<VERB>\n",
        "      NP:\n",
        "          {<DET(,EZ)?|NOUN(,EZ)?|NUM(,EZ)?|ADJ(,EZ)|PRON><DET(,EZ)|NOUN(,EZ)|NUM(,EZ)|ADJ(,EZ)|PRON>*}\n",
        "          <NOUN>}{<.*(,EZ)?>\n",
        "  \"\"\"\n",
        "  valid_pos_tags = {'NOUN', 'NOUN,EZ', 'ADJ', 'ADJ,EZ'}\n",
        "  extractor = perke.unsupervised.graph_based.PositionRank()\n",
        "\n",
        "  extractor.load_text(\n",
        "      input=text, word_normalization_method=None,\n",
        "      universal_pos_tags=False,\n",
        "  )\n",
        "  extractor.select_candidates(grammar=grammar, maximum_word_number=3)\n",
        "  extractor.weight_candidates(window_size=10)\n",
        "\n",
        "  keyphrases = extractor.get_n_best(n=10)\n",
        "  candids, score = zip(*keyphrases)\n",
        "\n",
        "  return list(candids)\n",
        "\n",
        "\n",
        "def ke_multipartiteRank(text):\n",
        "  valid_pos_tags = {'NOUN', 'NOUN,EZ', 'ADJ', 'ADJ,EZ'}\n",
        "  extractor = perke.unsupervised.graph_based.MultipartiteRank()\n",
        "\n",
        "  extractor.load_text(input=text, word_normalization_method=None)\n",
        "  extractor.select_candidates()\n",
        "  extractor.weight_candidates(\n",
        "      threshold=0.70,\n",
        "      metric='jaccard',\n",
        "      linkage_method='average',\n",
        "      alpha=1.2,\n",
        "  )\n",
        "\n",
        "  keyphrases = extractor.get_n_best(n=10)\n",
        "  candids, score = zip(*keyphrases)\n",
        "\n",
        "  return list(candids)"
      ],
      "metadata": {
        "id": "YToHOv9RstT1"
      },
      "execution_count": null,
      "outputs": []
    },
    {
      "cell_type": "code",
      "source": [
        "# Number of processes to run in parallel\n",
        "num_processes = multiprocessing.cpu_count()\n",
        "\n",
        "# Create a multiprocessing pool\n",
        "pool = multiprocessing.Pool(processes=num_processes)\n",
        "\n",
        "# Perform keyword extraction for each text using multiprocessing\n",
        "results_topic = pool.map(ke_topicRank, all_texts[:25])\n",
        "results_text = pool.map(ke_textRank, all_texts[:25])\n",
        "results_single = pool.map(ke_singleRank, all_texts[:25])\n",
        "results_position = pool.map(ke_positionRank, all_texts[:25])\n",
        "results_multi = pool.map(ke_multipartiteRank, all_texts[:25])\n",
        "\n",
        "# Close the pool of processes\n",
        "pool.close()\n",
        "pool.join()"
      ],
      "metadata": {
        "id": "yA7EbSfwur0o"
      },
      "execution_count": null,
      "outputs": []
    },
    {
      "cell_type": "code",
      "source": [
        "topicRank= []\n",
        "textRank = []\n",
        "singleRank = []\n",
        "positionRank = []\n",
        "multi = []\n",
        "\n",
        "for i in range(len(results_topic)):\n",
        "  references = df['keywords'].iloc[i]\n",
        "  topicRank.append(evaluate(results_topic[i], references))\n",
        "  textRank.append(evaluate(results_text[i], references))\n",
        "  singleRank.append(evaluate(results_single[i], references))\n",
        "  positionRank.append(evaluate(results_position[i], references))\n",
        "  multi.append(evaluate(results_multi[i], references))\n",
        "\n",
        "print(\"Topic Rank mean f1 score is:\", np.mean(np.array(topicRank)).round(4))\n",
        "print(\"Text Rank mean f1 score is:\", np.mean(np.array(textRank)).round(4))\n",
        "print(\"Single Rank mean f1 score is:\", np.mean(np.array(singleRank)).round(4))\n",
        "print(\"Position Rank mean f1 score is:\", np.mean(np.array(positionRank)).round(4))\n",
        "print(\"Multipartite Rank mean f1 score is:\", np.mean(np.array(multi)).round(4))"
      ],
      "metadata": {
        "colab": {
          "base_uri": "https://localhost:8080/"
        },
        "id": "zTZsrO4TsgqI",
        "outputId": "18b4203d-3ca8-4daf-afa7-40926e7fbe86"
      },
      "execution_count": null,
      "outputs": [
        {
          "output_type": "stream",
          "name": "stdout",
          "text": [
            "Topic Rank mean f1 score is: 0.1272\n",
            "Text Rank mean f1 score is: 0.1485\n",
            "Single Rank mean f1 score is: 0.0947\n",
            "Position Rank mean f1 score is: 0.0555\n",
            "Multipartite Rank mean f1 score is: 0.1494\n"
          ]
        }
      ]
    },
    {
      "cell_type": "markdown",
      "source": [
        "## Yake Algorithm:"
      ],
      "metadata": {
        "id": "GgYVaLhO1I11"
      }
    },
    {
      "cell_type": "code",
      "source": [
        "import yake\n",
        "from hazm import *\n",
        "\n",
        "normalizer = Normalizer()\n",
        "stemmer = Stemmer()\n",
        "\n",
        "def yake_extractor(texts, top=10):\n",
        "  # Create a YAKE keyword extractor\n",
        "  kw_extractor = yake.KeywordExtractor(lan='fa', top=top)\n",
        "  candids = []\n",
        "  for text in texts:\n",
        "    text = normalizer.normalize(text)\n",
        "    keywords = kw_extractor.extract_keywords(text)\n",
        "\n",
        "    cand, score = zip(*keywords)\n",
        "    candids.append(list(cand))\n",
        "  return candids"
      ],
      "metadata": {
        "id": "RhwTkjCg3-xz"
      },
      "execution_count": null,
      "outputs": []
    },
    {
      "cell_type": "code",
      "source": [
        "# clean_text = preprocess()\n",
        "# normal_text = preprocess(stemming=False, lemmatizing=False, tagging=False, remove_stopwords=False)"
      ],
      "metadata": {
        "id": "5nv_NfkiwLZL"
      },
      "execution_count": null,
      "outputs": []
    },
    {
      "cell_type": "code",
      "source": [
        "x = []\n",
        "candids = yake_extractor(all_texts, 10)\n",
        "for i in range(len(candids)):\n",
        "  x.append(evaluate(candids[i], df.keywords.iloc[i]))\n",
        "\n",
        "print(f'yake f1 score with {9} keywords: ', np.array(x).mean())\n"
      ],
      "metadata": {
        "colab": {
          "base_uri": "https://localhost:8080/"
        },
        "id": "-zslCXMUoGFN",
        "outputId": "5ab9fefd-0ca9-449c-9121-1d539f695765"
      },
      "execution_count": null,
      "outputs": [
        {
          "output_type": "stream",
          "name": "stdout",
          "text": [
            "yake f1 score with 9 keywords:  0.12503081961995977\n"
          ]
        }
      ]
    },
    {
      "cell_type": "code",
      "source": [
        "yake_score = []\n",
        "yake_score_2 = []\n",
        "# candids = yake_extractor(normal_text, 8)\n",
        "\n",
        "yake_score_clean = []\n",
        "# candids_clean = yake_extractor(clean_text)\n",
        "\n",
        "num_keys = []\n",
        "f1_scores = []\n",
        "recall_scores = []\n",
        "percision_scores = []\n",
        "\n",
        "for k in range(4, 15):\n",
        "  num_keys.append(k)\n",
        "  yake_score = []\n",
        "  candids = yake_extractor(all_texts, k)\n",
        "  for i in range(len(candids)):\n",
        "    yake_score.append(evaluate(candids[i], df.keywords.iloc[i]))\n",
        "    # yake_score_2.append(evaluate(candids[i], df.existing_keywords.iloc[i]))\n",
        "    # yake_score_clean.append(evaluate(candids_clean[i], df.keywords.iloc[i]))\n",
        "\n",
        "  s = np.array(yake_score)\n",
        "  s = s.mean(axis=0)\n",
        "  f1_scores.append(s[0])\n",
        "  recall_scores.append(s[1])\n",
        "  percision_scores.append(s[2])\n",
        "\n",
        "  print(f'yake f1 score with {k} keywords: ', np.array(yake_score).mean(axis=1)[0])\n",
        "  # print('preprocessed text yake f1 score: ', np.array(yake_score_2).mean())"
      ],
      "metadata": {
        "id": "LxST_CgC6tZc"
      },
      "execution_count": null,
      "outputs": []
    },
    {
      "cell_type": "code",
      "source": [
        "fig , axes = plt.subplots()\n",
        "\n",
        "axes.set_title('yake analysis')\n",
        "axes.set_xlabel('num keywords')\n",
        "axes.set_ylabel('evaluation score')\n",
        "axes.plot(num_keys, f1_scores,label = 'f1', color='g')\n",
        "axes.plot(num_keys, recall_scores, label='recall', color='r')\n",
        "axes.plot(num_keys, percision_scores, label='percision', color='blue')\n",
        "\n",
        "axes.legend()"
      ],
      "metadata": {
        "colab": {
          "base_uri": "https://localhost:8080/",
          "height": 497
        },
        "id": "MrSmd2jQhUI-",
        "outputId": "8c3417a8-b3b6-409a-93b8-6a71e4ba29e7"
      },
      "execution_count": null,
      "outputs": [
        {
          "output_type": "execute_result",
          "data": {
            "text/plain": [
              "<matplotlib.legend.Legend at 0x7e44d155e6b0>"
            ]
          },
          "metadata": {},
          "execution_count": 350
        },
        {
          "output_type": "display_data",
          "data": {
            "text/plain": [
              "<Figure size 640x480 with 1 Axes>"
            ],
            "image/png": "[encoded data removed]"
          },
          "metadata": {}
        }
      ]
    },
    {
      "cell_type": "code",
      "source": [],
      "metadata": {
        "id": "MIn9MvhUtiub"
      },
      "execution_count": null,
      "outputs": []
    }
  ],
  "metadata": {
    "colab": {
      "provenance": [],
      "authorship_tag": "ABX9TyMT1pC01G86HLmSShsuTbK+",
      "include_colab_link": true
    },
    "kernelspec": {
      "display_name": "Python 3",
      "name": "python3"
    },
    "language_info": {
      "name": "python"
    }
  },
  "nbformat": 4,
  "nbformat_minor": 0
}