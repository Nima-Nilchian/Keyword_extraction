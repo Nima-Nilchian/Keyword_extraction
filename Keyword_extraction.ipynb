{
  "cells": [
    {
      "cell_type": "markdown",
      "metadata": {
        "id": "view-in-github",
        "colab_type": "text"
      },
      "source": [
        "<a href=\"https://colab.research.google.com/github/Nima-Nilchian/Keyword_extraction/blob/master/Keyword_extraction.ipynb\" target=\"_parent\"><img src=\"https://colab.research.google.com/assets/colab-badge.svg\" alt=\"Open In Colab\"/></a>"
      ]
    },
    {
      "cell_type": "markdown",
      "metadata": {
        "id": "SXdlZlPAaHMf"
      },
      "source": [
        "# Keyword Extraction\n",
        "\n",
        "# استخراج عبارت‌های کلیدی متن"
      ]
    },
    {
      "cell_type": "markdown",
      "metadata": {
        "id": "EyUqG5oGVktL"
      },
      "source": [
        "<p align=\"right\">\n",
        "ارزیابی روش‌ها مورد استفاده قرار خواهد گرفت. علاوه بر گزارش نتایج برای هر یک از روش‌ها با استفاده از مجموعه داده، نمونه‌هایی از خروجی را هم برای هر روش گزارش کرده و به صورت شهودی نیز مقایسه‌ای انجام دهید. همچنین سرعت روش‌های پیاده‌سازی شده نیز نیاز به مقایسه دارد.\n",
        "</p>\n",
        "<p align=\"right\">\n",
        ":روش‌های زیر را پیاده‌سازی و طبق روال بالا ارزیابی و مقایسه کنید\n",
        "</p>\n",
        "\n",
        "*   baseline (TF-IDF)\n",
        "*   TF-IDF with Ngrams\n",
        "*   TF-IDF with chunking\n",
        "*   KP-Miner\n",
        "*   Yake\n",
        "*   TextRank\n",
        "*   SingleRank\n",
        "*   TopicRank\n",
        "*   TopicalPageRank\n",
        "*   PositionRank\n",
        "*   MultipartiteRank\n",
        "*   scake\n",
        "*   sgrank\n",
        "\n",
        "\n",
        "\n",
        "\n",
        "\n",
        "\n",
        "\n",
        "\n",
        "\n"
      ]
    },
    {
      "cell_type": "markdown",
      "metadata": {
        "id": "4OhOIh7UbHh6"
      },
      "source": [
        "# Reading and preproccessing Data"
      ]
    },
    {
      "cell_type": "code",
      "execution_count": null,
      "metadata": {
        "id": "A7HKTRH57yfI",
        "colab": {
          "base_uri": "https://localhost:8080/",
          "height": 1000
        },
        "outputId": "bc91e672-27c7-43d9-ece6-f73e96c31931"
      },
      "outputs": [
        {
          "output_type": "stream",
          "name": "stdout",
          "text": [
            "Collecting git+https://github.com/boudinfl/pke.git\n",
            "  Cloning https://github.com/boudinfl/pke.git to /tmp/pip-req-build-i_r2bro6\n",
            "  Running command git clone --filter=blob:none --quiet https://github.com/boudinfl/pke.git /tmp/pip-req-build-i_r2bro6\n",
            "  Resolved https://github.com/boudinfl/pke.git to commit 69871ffdb720b83df23684fea53ec8776fd87e63\n",
            "  Preparing metadata (setup.py) ... \u001b[?25l\u001b[?25hdone\n",
            "Requirement already satisfied: nltk in /usr/local/lib/python3.10/dist-packages (from pke==2.0.0) (3.8.1)\n",
            "Requirement already satisfied: networkx in /usr/local/lib/python3.10/dist-packages (from pke==2.0.0) (3.1)\n",
            "Requirement already satisfied: numpy in /usr/local/lib/python3.10/dist-packages (from pke==2.0.0) (1.22.4)\n",
            "Requirement already satisfied: scipy in /usr/local/lib/python3.10/dist-packages (from pke==2.0.0) (1.10.1)\n",
            "Requirement already satisfied: scikit-learn in /usr/local/lib/python3.10/dist-packages (from pke==2.0.0) (1.2.2)\n",
            "Collecting unidecode (from pke==2.0.0)\n",
            "  Downloading Unidecode-1.3.6-py3-none-any.whl (235 kB)\n",
            "\u001b[2K     \u001b[90m━━━━━━━━━━━━━━━━━━━━━━━━━━━━━━━━━━━━━━━\u001b[0m \u001b[32m235.9/235.9 kB\u001b[0m \u001b[31m2.2 MB/s\u001b[0m eta \u001b[36m0:00:00\u001b[0m\n",
            "\u001b[?25hRequirement already satisfied: future in /usr/local/lib/python3.10/dist-packages (from pke==2.0.0) (0.18.3)\n",
            "Requirement already satisfied: joblib in /usr/local/lib/python3.10/dist-packages (from pke==2.0.0) (1.3.1)\n",
            "Requirement already satisfied: spacy>=3.2.3 in /usr/local/lib/python3.10/dist-packages (from pke==2.0.0) (3.5.4)\n",
            "Requirement already satisfied: spacy-legacy<3.1.0,>=3.0.11 in /usr/local/lib/python3.10/dist-packages (from spacy>=3.2.3->pke==2.0.0) (3.0.12)\n",
            "Requirement already satisfied: spacy-loggers<2.0.0,>=1.0.0 in /usr/local/lib/python3.10/dist-packages (from spacy>=3.2.3->pke==2.0.0) (1.0.4)\n",
            "Requirement already satisfied: murmurhash<1.1.0,>=0.28.0 in /usr/local/lib/python3.10/dist-packages (from spacy>=3.2.3->pke==2.0.0) (1.0.9)\n",
            "Requirement already satisfied: cymem<2.1.0,>=2.0.2 in /usr/local/lib/python3.10/dist-packages (from spacy>=3.2.3->pke==2.0.0) (2.0.7)\n",
            "Requirement already satisfied: preshed<3.1.0,>=3.0.2 in /usr/local/lib/python3.10/dist-packages (from spacy>=3.2.3->pke==2.0.0) (3.0.8)\n",
            "Requirement already satisfied: thinc<8.2.0,>=8.1.8 in /usr/local/lib/python3.10/dist-packages (from spacy>=3.2.3->pke==2.0.0) (8.1.10)\n",
            "Requirement already satisfied: wasabi<1.2.0,>=0.9.1 in /usr/local/lib/python3.10/dist-packages (from spacy>=3.2.3->pke==2.0.0) (1.1.2)\n",
            "Requirement already satisfied: srsly<3.0.0,>=2.4.3 in /usr/local/lib/python3.10/dist-packages (from spacy>=3.2.3->pke==2.0.0) (2.4.7)\n",
            "Requirement already satisfied: catalogue<2.1.0,>=2.0.6 in /usr/local/lib/python3.10/dist-packages (from spacy>=3.2.3->pke==2.0.0) (2.0.9)\n",
            "Requirement already satisfied: typer<0.10.0,>=0.3.0 in /usr/local/lib/python3.10/dist-packages (from spacy>=3.2.3->pke==2.0.0) (0.9.0)\n",
            "Requirement already satisfied: pathy>=0.10.0 in /usr/local/lib/python3.10/dist-packages (from spacy>=3.2.3->pke==2.0.0) (0.10.2)\n",
            "Requirement already satisfied: smart-open<7.0.0,>=5.2.1 in /usr/local/lib/python3.10/dist-packages (from spacy>=3.2.3->pke==2.0.0) (6.3.0)\n",
            "Requirement already satisfied: tqdm<5.0.0,>=4.38.0 in /usr/local/lib/python3.10/dist-packages (from spacy>=3.2.3->pke==2.0.0) (4.65.0)\n",
            "Requirement already satisfied: requests<3.0.0,>=2.13.0 in /usr/local/lib/python3.10/dist-packages (from spacy>=3.2.3->pke==2.0.0) (2.27.1)\n",
            "Requirement already satisfied: pydantic!=1.8,!=1.8.1,<1.11.0,>=1.7.4 in /usr/local/lib/python3.10/dist-packages (from spacy>=3.2.3->pke==2.0.0) (1.10.12)\n",
            "Requirement already satisfied: jinja2 in /usr/local/lib/python3.10/dist-packages (from spacy>=3.2.3->pke==2.0.0) (3.1.2)\n",
            "Requirement already satisfied: setuptools in /usr/local/lib/python3.10/dist-packages (from spacy>=3.2.3->pke==2.0.0) (67.7.2)\n",
            "Requirement already satisfied: packaging>=20.0 in /usr/local/lib/python3.10/dist-packages (from spacy>=3.2.3->pke==2.0.0) (23.1)\n",
            "Requirement already satisfied: langcodes<4.0.0,>=3.2.0 in /usr/local/lib/python3.10/dist-packages (from spacy>=3.2.3->pke==2.0.0) (3.3.0)\n",
            "Requirement already satisfied: click in /usr/local/lib/python3.10/dist-packages (from nltk->pke==2.0.0) (8.1.6)\n",
            "Requirement already satisfied: regex>=2021.8.3 in /usr/local/lib/python3.10/dist-packages (from nltk->pke==2.0.0) (2022.10.31)\n",
            "Requirement already satisfied: threadpoolctl>=2.0.0 in /usr/local/lib/python3.10/dist-packages (from scikit-learn->pke==2.0.0) (3.2.0)\n",
            "Requirement already satisfied: typing-extensions>=4.2.0 in /usr/local/lib/python3.10/dist-packages (from pydantic!=1.8,!=1.8.1,<1.11.0,>=1.7.4->spacy>=3.2.3->pke==2.0.0) (4.7.1)\n",
            "Requirement already satisfied: urllib3<1.27,>=1.21.1 in /usr/local/lib/python3.10/dist-packages (from requests<3.0.0,>=2.13.0->spacy>=3.2.3->pke==2.0.0) (1.26.16)\n",
            "Requirement already satisfied: certifi>=2017.4.17 in /usr/local/lib/python3.10/dist-packages (from requests<3.0.0,>=2.13.0->spacy>=3.2.3->pke==2.0.0) (2023.7.22)\n",
            "Requirement already satisfied: charset-normalizer~=2.0.0 in /usr/local/lib/python3.10/dist-packages (from requests<3.0.0,>=2.13.0->spacy>=3.2.3->pke==2.0.0) (2.0.12)\n",
            "Requirement already satisfied: idna<4,>=2.5 in /usr/local/lib/python3.10/dist-packages (from requests<3.0.0,>=2.13.0->spacy>=3.2.3->pke==2.0.0) (3.4)\n",
            "Requirement already satisfied: blis<0.8.0,>=0.7.8 in /usr/local/lib/python3.10/dist-packages (from thinc<8.2.0,>=8.1.8->spacy>=3.2.3->pke==2.0.0) (0.7.10)\n",
            "Requirement already satisfied: confection<1.0.0,>=0.0.1 in /usr/local/lib/python3.10/dist-packages (from thinc<8.2.0,>=8.1.8->spacy>=3.2.3->pke==2.0.0) (0.1.0)\n",
            "Requirement already satisfied: MarkupSafe>=2.0 in /usr/local/lib/python3.10/dist-packages (from jinja2->spacy>=3.2.3->pke==2.0.0) (2.1.3)\n",
            "Building wheels for collected packages: pke\n",
            "  Building wheel for pke (setup.py) ... \u001b[?25l\u001b[?25hdone\n",
            "  Created wheel for pke: filename=pke-2.0.0-py3-none-any.whl size=6160630 sha256=ab7a18b5fe6f7dd777038d4e328dc9fc312486304bbc337c63a197f9ec1a8434\n",
            "  Stored in directory: /tmp/pip-ephem-wheel-cache-rixm76vs/wheels/8c/07/29/6b35bed2aa36e33d77ff3677eb716965ece4d2e56639ad0aab\n",
            "Successfully built pke\n",
            "Installing collected packages: unidecode, pke\n",
            "Successfully installed pke-2.0.0 unidecode-1.3.6\n",
            "Collecting perke\n",
            "  Downloading perke-0.4.4-py3-none-any.whl (25 kB)\n",
            "Collecting hazm (from perke)\n",
            "  Downloading hazm-0.9.3-py3-none-any.whl (367 kB)\n",
            "\u001b[2K     \u001b[90m━━━━━━━━━━━━━━━━━━━━━━━━━━━━━━━━━━━━━━━\u001b[0m \u001b[32m367.5/367.5 kB\u001b[0m \u001b[31m5.4 MB/s\u001b[0m eta \u001b[36m0:00:00\u001b[0m\n",
            "\u001b[?25hRequirement already satisfied: nltk in /usr/local/lib/python3.10/dist-packages (from perke) (3.8.1)\n",
            "Requirement already satisfied: networkx in /usr/local/lib/python3.10/dist-packages (from perke) (3.1)\n",
            "Requirement already satisfied: scipy in /usr/local/lib/python3.10/dist-packages (from perke) (1.10.1)\n",
            "Collecting typer==0.5.0 (from perke)\n",
            "  Downloading typer-0.5.0-py3-none-any.whl (28 kB)\n",
            "Collecting rich-click==1.5.2 (from perke)\n",
            "  Downloading rich_click-1.5.2-py3-none-any.whl (20 kB)\n",
            "Requirement already satisfied: gdown in /usr/local/lib/python3.10/dist-packages (from perke) (4.6.6)\n",
            "Requirement already satisfied: click>=7 in /usr/local/lib/python3.10/dist-packages (from rich-click==1.5.2->perke) (8.1.6)\n",
            "Requirement already satisfied: rich>=10.7.0 in /usr/local/lib/python3.10/dist-packages (from rich-click==1.5.2->perke) (13.4.2)\n",
            "Requirement already satisfied: filelock in /usr/local/lib/python3.10/dist-packages (from gdown->perke) (3.12.2)\n",
            "Requirement already satisfied: requests[socks] in /usr/local/lib/python3.10/dist-packages (from gdown->perke) (2.27.1)\n",
            "Requirement already satisfied: six in /usr/local/lib/python3.10/dist-packages (from gdown->perke) (1.16.0)\n",
            "Requirement already satisfied: tqdm in /usr/local/lib/python3.10/dist-packages (from gdown->perke) (4.65.0)\n",
            "Requirement already satisfied: beautifulsoup4 in /usr/local/lib/python3.10/dist-packages (from gdown->perke) (4.11.2)\n",
            "Collecting fasttext-wheel<0.10.0,>=0.9.2 (from hazm->perke)\n",
            "  Downloading fasttext_wheel-0.9.2-cp310-cp310-manylinux_2_17_x86_64.manylinux2014_x86_64.whl (4.4 MB)\n",
            "\u001b[2K     \u001b[90m━━━━━━━━━━━━━━━━━━━━━━━━━━━━━━━━━━━━━━━━\u001b[0m \u001b[32m4.4/4.4 MB\u001b[0m \u001b[31m19.2 MB/s\u001b[0m eta \u001b[36m0:00:00\u001b[0m\n",
            "\u001b[?25hRequirement already satisfied: gensim<5.0.0,>=4.3.1 in /usr/local/lib/python3.10/dist-packages (from hazm->perke) (4.3.1)\n",
            "Collecting numpy<2.0.0,>=1.24.3 (from hazm->perke)\n",
            "  Downloading numpy-1.25.2-cp310-cp310-manylinux_2_17_x86_64.manylinux2014_x86_64.whl (18.2 MB)\n",
            "\u001b[2K     \u001b[90m━━━━━━━━━━━━━━━━━━━━━━━━━━━━━━━━━━━━━━━━\u001b[0m \u001b[32m18.2/18.2 MB\u001b[0m \u001b[31m30.2 MB/s\u001b[0m eta \u001b[36m0:00:00\u001b[0m\n",
            "\u001b[?25hCollecting python-crfsuite<0.10.0,>=0.9.9 (from hazm->perke)\n",
            "  Downloading python_crfsuite-0.9.9-cp310-cp310-manylinux_2_17_x86_64.manylinux2014_x86_64.whl (993 kB)\n",
            "\u001b[2K     \u001b[90m━━━━━━━━━━━━━━━━━━━━━━━━━━━━━━━━━━━━━━\u001b[0m \u001b[32m993.5/993.5 kB\u001b[0m \u001b[31m41.3 MB/s\u001b[0m eta \u001b[36m0:00:00\u001b[0m\n",
            "\u001b[?25hRequirement already satisfied: scikit-learn<2.0.0,>=1.2.2 in /usr/local/lib/python3.10/dist-packages (from hazm->perke) (1.2.2)\n",
            "Requirement already satisfied: joblib in /usr/local/lib/python3.10/dist-packages (from nltk->perke) (1.3.1)\n",
            "Requirement already satisfied: regex>=2021.8.3 in /usr/local/lib/python3.10/dist-packages (from nltk->perke) (2022.10.31)\n",
            "Collecting pybind11>=2.2 (from fasttext-wheel<0.10.0,>=0.9.2->hazm->perke)\n",
            "  Downloading pybind11-2.11.1-py3-none-any.whl (227 kB)\n",
            "\u001b[2K     \u001b[90m━━━━━━━━━━━━━━━━━━━━━━━━━━━━━━━━━━━━━━\u001b[0m \u001b[32m227.7/227.7 kB\u001b[0m \u001b[31m17.0 MB/s\u001b[0m eta \u001b[36m0:00:00\u001b[0m\n",
            "\u001b[?25hRequirement already satisfied: setuptools>=0.7.0 in /usr/local/lib/python3.10/dist-packages (from fasttext-wheel<0.10.0,>=0.9.2->hazm->perke) (67.7.2)\n",
            "Requirement already satisfied: smart-open>=1.8.1 in /usr/local/lib/python3.10/dist-packages (from gensim<5.0.0,>=4.3.1->hazm->perke) (6.3.0)\n",
            "Requirement already satisfied: markdown-it-py>=2.2.0 in /usr/local/lib/python3.10/dist-packages (from rich>=10.7.0->rich-click==1.5.2->perke) (3.0.0)\n",
            "Requirement already satisfied: pygments<3.0.0,>=2.13.0 in /usr/local/lib/python3.10/dist-packages (from rich>=10.7.0->rich-click==1.5.2->perke) (2.14.0)\n",
            "Requirement already satisfied: threadpoolctl>=2.0.0 in /usr/local/lib/python3.10/dist-packages (from scikit-learn<2.0.0,>=1.2.2->hazm->perke) (3.2.0)\n",
            "Requirement already satisfied: soupsieve>1.2 in /usr/local/lib/python3.10/dist-packages (from beautifulsoup4->gdown->perke) (2.4.1)\n",
            "Requirement already satisfied: urllib3<1.27,>=1.21.1 in /usr/local/lib/python3.10/dist-packages (from requests[socks]->gdown->perke) (1.26.16)\n",
            "Requirement already satisfied: certifi>=2017.4.17 in /usr/local/lib/python3.10/dist-packages (from requests[socks]->gdown->perke) (2023.7.22)\n",
            "Requirement already satisfied: charset-normalizer~=2.0.0 in /usr/local/lib/python3.10/dist-packages (from requests[socks]->gdown->perke) (2.0.12)\n",
            "Requirement already satisfied: idna<4,>=2.5 in /usr/local/lib/python3.10/dist-packages (from requests[socks]->gdown->perke) (3.4)\n",
            "Requirement already satisfied: PySocks!=1.5.7,>=1.5.6 in /usr/local/lib/python3.10/dist-packages (from requests[socks]->gdown->perke) (1.7.1)\n",
            "Requirement already satisfied: mdurl~=0.1 in /usr/local/lib/python3.10/dist-packages (from markdown-it-py>=2.2.0->rich>=10.7.0->rich-click==1.5.2->perke) (0.1.2)\n",
            "Installing collected packages: python-crfsuite, typer, pybind11, numpy, fasttext-wheel, rich-click, hazm, perke\n",
            "  Attempting uninstall: typer\n",
            "    Found existing installation: typer 0.9.0\n",
            "    Uninstalling typer-0.9.0:\n",
            "      Successfully uninstalled typer-0.9.0\n",
            "  Attempting uninstall: numpy\n",
            "    Found existing installation: numpy 1.22.4\n",
            "    Uninstalling numpy-1.22.4:\n",
            "      Successfully uninstalled numpy-1.22.4\n",
            "\u001b[31mERROR: pip's dependency resolver does not currently take into account all the packages that are installed. This behaviour is the source of the following dependency conflicts.\n",
            "numba 0.56.4 requires numpy<1.24,>=1.18, but you have numpy 1.25.2 which is incompatible.\n",
            "tensorflow 2.12.0 requires numpy<1.24,>=1.22, but you have numpy 1.25.2 which is incompatible.\u001b[0m\u001b[31m\n",
            "\u001b[0mSuccessfully installed fasttext-wheel-0.9.2 hazm-0.9.3 numpy-1.25.2 perke-0.4.4 pybind11-2.11.1 python-crfsuite-0.9.9 rich-click-1.5.2 typer-0.5.0\n"
          ]
        },
        {
          "output_type": "display_data",
          "data": {
            "application/vnd.colab-display-data+json": {
              "pip_warning": {
                "packages": [
                  "numpy"
                ]
              }
            }
          },
          "metadata": {}
        },
        {
          "output_type": "stream",
          "name": "stdout",
          "text": [
            "Downloading...\n",
            "From: https://drive.google.com/uc?id=1Q3JK4NVUC2t5QT63aDiVrCRBV225E_B3\n",
            "To: /usr/local/lib/python3.10/dist-packages/perke/resources/pos_tagger.model\n",
            "100% 19.2M/19.2M [00:00<00:00, 111MB/s] \n",
            "Collecting yake\n",
            "  Downloading yake-0.4.8-py2.py3-none-any.whl (60 kB)\n",
            "\u001b[2K     \u001b[90m━━━━━━━━━━━━━━━━━━━━━━━━━━━━━━━━━━━━━━━━\u001b[0m \u001b[32m60.2/60.2 kB\u001b[0m \u001b[31m1.4 MB/s\u001b[0m eta \u001b[36m0:00:00\u001b[0m\n",
            "\u001b[?25hRequirement already satisfied: tabulate in /usr/local/lib/python3.10/dist-packages (from yake) (0.9.0)\n",
            "Requirement already satisfied: click>=6.0 in /usr/local/lib/python3.10/dist-packages (from yake) (8.1.6)\n",
            "Requirement already satisfied: numpy in /usr/local/lib/python3.10/dist-packages (from yake) (1.25.2)\n",
            "Collecting segtok (from yake)\n",
            "  Downloading segtok-1.5.11-py3-none-any.whl (24 kB)\n",
            "Requirement already satisfied: networkx in /usr/local/lib/python3.10/dist-packages (from yake) (3.1)\n",
            "Collecting jellyfish (from yake)\n",
            "  Downloading jellyfish-1.0.0-cp310-cp310-manylinux_2_17_x86_64.manylinux2014_x86_64.whl (1.2 MB)\n",
            "\u001b[2K     \u001b[90m━━━━━━━━━━━━━━━━━━━━━━━━━━━━━━━━━━━━━━━━\u001b[0m \u001b[32m1.2/1.2 MB\u001b[0m \u001b[31m6.7 MB/s\u001b[0m eta \u001b[36m0:00:00\u001b[0m\n",
            "\u001b[?25hRequirement already satisfied: regex in /usr/local/lib/python3.10/dist-packages (from segtok->yake) (2022.10.31)\n",
            "Installing collected packages: segtok, jellyfish, yake\n",
            "Successfully installed jellyfish-1.0.0 segtok-1.5.11 yake-0.4.8\n"
          ]
        }
      ],
      "source": [
        "!pip install git+https://github.com/boudinfl/pke.git\n",
        "!pip install perke\n",
        "!python -m perke download\n",
        "!pip install yake"
      ]
    },
    {
      "cell_type": "code",
      "execution_count": 256,
      "metadata": {
        "id": "sDISdg5ibZuX"
      },
      "outputs": [],
      "source": [
        "import numpy as np\n",
        "import pandas as pd\n",
        "import json\n",
        "import string\n",
        "import perke\n",
        "import time\n",
        "import multiprocessing\n",
        "import matplotlib.pyplot as plt\n",
        "\n",
        "import yake\n",
        "import re"
      ]
    },
    {
      "cell_type": "code",
      "execution_count": null,
      "metadata": {
        "id": "hIA0d1k-bO_c",
        "colab": {
          "base_uri": "https://localhost:8080/"
        },
        "outputId": "b19127fc-4f75-49a6-ece7-519ed53b3f73"
      },
      "outputs": [
        {
          "output_type": "stream",
          "name": "stdout",
          "text": [
            "Mounted at ./content\n"
          ]
        }
      ],
      "source": [
        "from google.colab import drive\n",
        "drive.mount(\"./content\")"
      ]
    },
    {
      "cell_type": "code",
      "execution_count": null,
      "metadata": {
        "id": "lRg3zK-bcxL6"
      },
      "outputs": [],
      "source": [
        "data_loc = './content/MyDrive/datasets/ke/ke_dataset.txt'\n",
        "\n",
        "df = pd.DataFrame()\n",
        "with open(data_loc, 'r') as f:\n",
        "  for line in f.readlines():\n",
        "    json_data = json.loads(line.strip())\n",
        "    df = pd.concat([df, pd.DataFrame([json_data])], ignore_index=True)\n",
        "\n",
        "df.drop('id', axis=1, inplace=True)\n",
        "all_texts = df['body'].tolist()"
      ]
    },
    {
      "cell_type": "code",
      "source": [
        "df"
      ],
      "metadata": {
        "colab": {
          "base_uri": "https://localhost:8080/",
          "height": 423
        },
        "id": "oK7vGD8y880r",
        "outputId": "8bce0d8a-ffdb-4a96-94ac-3a117e48bbc2"
      },
      "execution_count": 218,
      "outputs": [
        {
          "output_type": "execute_result",
          "data": {
            "text/plain": [
              "                                                  body  \\\n",
              "0    این نوشتار بر آن است تا با بررسی فقه الحدیثی ک...   \n",
              "1    چکیده:           این پژوهش براساس چارچوب نظری ...   \n",
              "2    فهم معانی عمیق و تدبر در آیات قرآن کریم برای ب...   \n",
              "3    آزادی موهبتی است الهی که خدای متعال به انسان ع...   \n",
              "4    یکی از نکاتی که توجه پژوهشگران اندیشه‌های سیاس...   \n",
              "..                                                 ...   \n",
              "445  پژوهش حاضر با هدف بررسی رابطه رضایت شغلی با تع...   \n",
              "446  سازمان ملل متحد در دهه های اخیر، با تغییر ساخت...   \n",
              "447  تفسیرهای فقهی از قدیمی‌ترین تفاسیری هستند که ا...   \n",
              "448  هدف از انجام این تحقیق بررسی تاثیر کیفیت زندگی...   \n",
              "449  هدف از پژوهش حاضر تبیین رابطه بین جهت گیری زند...   \n",
              "\n",
              "                                              keywords  \\\n",
              "0    [فقه الحدیث, معانی الاخبار, روش فقه الحدیثی, چ...   \n",
              "1    [سید محمد خاتمی, آدریان لفت ویچ, پیتر ایوانز, ...   \n",
              "2          [جایگاه آرائ تفسیری, محمد یزدی, ترجمه قرآن]   \n",
              "3    [محدودیت بازدارنده, آزادی بیان, بدعت, دین, ارت...   \n",
              "4    [آزادی, محمد تقی مصباح یزدی, مرتضی مطهری, دموک...   \n",
              "..                                                 ...   \n",
              "445  [شیراز, ارزیابی عمل‌کرد, کارکنان, عمل‌کرد شغل,...   \n",
              "446  [کمیسیون حقوق‌بشر, حقوق‌بشر در ایران, بررسی دو...   \n",
              "447  [استنباط, کنز العرفان, آیات الاحکام, قواعد تفس...   \n",
              "448  [مدل GSTARS 2.1, نوع دوستی, رفتار شهروندی سازم...   \n",
              "449  [کارکنان, عمل‌کرد شغل, جهت‌گیری زندگی, دانشگاه...   \n",
              "\n",
              "                                     existing_keywords  \n",
              "0    [فقه الحدیث, معانی الاخبار, روش فقه الحدیثی, چ...  \n",
              "1    [سید محمد خاتمی, آدریان لفت ویچ, پیتر ایوانز, ...  \n",
              "2                              [محمد یزدی, ترجمه قرآن]  \n",
              "3    [آزادی بیان, بدعت, دین, ارتداد, کتب ضلال, اهان...  \n",
              "4    [آزادی, مرتضی مطهری, دموکراسی, تفسیر دین, اندی...  \n",
              "..                                                 ...  \n",
              "445         [شیراز, کارکنان, تعهد سازمانی, رضایت شغلی]  \n",
              "446                                                 []  \n",
              "447  [استنباط, کنز العرفان, آیات الاحکام, قواعد تفس...  \n",
              "448  [نوع دوستی, رفتار شهروندی سازمانی, تواضع, کیفی...  \n",
              "449                        [کارکنان, کیفیت زندگی کاری]  \n",
              "\n",
              "[450 rows x 3 columns]"
            ],
            "text/html": [
              "\n",
              "\n",
              "  <div id=\"df-1a7a0302-21b1-41e6-8ad5-97133ec8cce8\">\n",
              "    <div class=\"colab-df-container\">\n",
              "      <div>\n",
              "<style scoped>\n",
              "    .dataframe tbody tr th:only-of-type {\n",
              "        vertical-align: middle;\n",
              "    }\n",
              "\n",
              "    .dataframe tbody tr th {\n",
              "        vertical-align: top;\n",
              "    }\n",
              "\n",
              "    .dataframe thead th {\n",
              "        text-align: right;\n",
              "    }\n",
              "</style>\n",
              "<table border=\"1\" class=\"dataframe\">\n",
              "  <thead>\n",
              "    <tr style=\"text-align: right;\">\n",
              "      <th></th>\n",
              "      <th>body</th>\n",
              "      <th>keywords</th>\n",
              "      <th>existing_keywords</th>\n",
              "    </tr>\n",
              "  </thead>\n",
              "  <tbody>\n",
              "    <tr>\n",
              "      <th>0</th>\n",
              "      <td>این نوشتار بر آن است تا با بررسی فقه الحدیثی ک...</td>\n",
              "      <td>[فقه الحدیث, معانی الاخبار, روش فقه الحدیثی, چ...</td>\n",
              "      <td>[فقه الحدیث, معانی الاخبار, روش فقه الحدیثی, چ...</td>\n",
              "    </tr>\n",
              "    <tr>\n",
              "      <th>1</th>\n",
              "      <td>چکیده:           این پژوهش براساس چارچوب نظری ...</td>\n",
              "      <td>[سید محمد خاتمی, آدریان لفت ویچ, پیتر ایوانز, ...</td>\n",
              "      <td>[سید محمد خاتمی, آدریان لفت ویچ, پیتر ایوانز, ...</td>\n",
              "    </tr>\n",
              "    <tr>\n",
              "      <th>2</th>\n",
              "      <td>فهم معانی عمیق و تدبر در آیات قرآن کریم برای ب...</td>\n",
              "      <td>[جایگاه آرائ تفسیری, محمد یزدی, ترجمه قرآن]</td>\n",
              "      <td>[محمد یزدی, ترجمه قرآن]</td>\n",
              "    </tr>\n",
              "    <tr>\n",
              "      <th>3</th>\n",
              "      <td>آزادی موهبتی است الهی که خدای متعال به انسان ع...</td>\n",
              "      <td>[محدودیت بازدارنده, آزادی بیان, بدعت, دین, ارت...</td>\n",
              "      <td>[آزادی بیان, بدعت, دین, ارتداد, کتب ضلال, اهان...</td>\n",
              "    </tr>\n",
              "    <tr>\n",
              "      <th>4</th>\n",
              "      <td>یکی از نکاتی که توجه پژوهشگران اندیشه‌های سیاس...</td>\n",
              "      <td>[آزادی, محمد تقی مصباح یزدی, مرتضی مطهری, دموک...</td>\n",
              "      <td>[آزادی, مرتضی مطهری, دموکراسی, تفسیر دین, اندی...</td>\n",
              "    </tr>\n",
              "    <tr>\n",
              "      <th>...</th>\n",
              "      <td>...</td>\n",
              "      <td>...</td>\n",
              "      <td>...</td>\n",
              "    </tr>\n",
              "    <tr>\n",
              "      <th>445</th>\n",
              "      <td>پژوهش حاضر با هدف بررسی رابطه رضایت شغلی با تع...</td>\n",
              "      <td>[شیراز, ارزیابی عمل‌کرد, کارکنان, عمل‌کرد شغل,...</td>\n",
              "      <td>[شیراز, کارکنان, تعهد سازمانی, رضایت شغلی]</td>\n",
              "    </tr>\n",
              "    <tr>\n",
              "      <th>446</th>\n",
              "      <td>سازمان ملل متحد در دهه های اخیر، با تغییر ساخت...</td>\n",
              "      <td>[کمیسیون حقوق‌بشر, حقوق‌بشر در ایران, بررسی دو...</td>\n",
              "      <td>[]</td>\n",
              "    </tr>\n",
              "    <tr>\n",
              "      <th>447</th>\n",
              "      <td>تفسیرهای فقهی از قدیمی‌ترین تفاسیری هستند که ا...</td>\n",
              "      <td>[استنباط, کنز العرفان, آیات الاحکام, قواعد تفس...</td>\n",
              "      <td>[استنباط, کنز العرفان, آیات الاحکام, قواعد تفس...</td>\n",
              "    </tr>\n",
              "    <tr>\n",
              "      <th>448</th>\n",
              "      <td>هدف از انجام این تحقیق بررسی تاثیر کیفیت زندگی...</td>\n",
              "      <td>[مدل GSTARS 2.1, نوع دوستی, رفتار شهروندی سازم...</td>\n",
              "      <td>[نوع دوستی, رفتار شهروندی سازمانی, تواضع, کیفی...</td>\n",
              "    </tr>\n",
              "    <tr>\n",
              "      <th>449</th>\n",
              "      <td>هدف از پژوهش حاضر تبیین رابطه بین جهت گیری زند...</td>\n",
              "      <td>[کارکنان, عمل‌کرد شغل, جهت‌گیری زندگی, دانشگاه...</td>\n",
              "      <td>[کارکنان, کیفیت زندگی کاری]</td>\n",
              "    </tr>\n",
              "  </tbody>\n",
              "</table>\n",
              "<p>450 rows × 3 columns</p>\n",
              "</div>\n",
              "      <button class=\"colab-df-convert\" onclick=\"convertToInteractive('df-1a7a0302-21b1-41e6-8ad5-97133ec8cce8')\"\n",
              "              title=\"Convert this dataframe to an interactive table.\"\n",
              "              style=\"display:none;\">\n",
              "\n",
              "  <svg xmlns=\"http://www.w3.org/2000/svg\" height=\"24px\"viewBox=\"0 0 24 24\"\n",
              "       width=\"24px\">\n",
              "    <path d=\"M0 0h24v24H0V0z\" fill=\"none\"/>\n",
              "    <path d=\"M18.56 5.44l.94 2.06.94-2.06 2.06-.94-2.06-.94-.94-2.06-.94 2.06-2.06.94zm-11 1L8.5 8.5l.94-2.06 2.06-.94-2.06-.94L8.5 2.5l-.94 2.06-2.06.94zm10 10l.94 2.06.94-2.06 2.06-.94-2.06-.94-.94-2.06-.94 2.06-2.06.94z\"/><path d=\"M17.41 7.96l-1.37-1.37c-.4-.4-.92-.59-1.43-.59-.52 0-1.04.2-1.43.59L10.3 9.45l-7.72 7.72c-.78.78-.78 2.05 0 2.83L4 21.41c.39.39.9.59 1.41.59.51 0 1.02-.2 1.41-.59l7.78-7.78 2.81-2.81c.8-.78.8-2.07 0-2.86zM5.41 20L4 18.59l7.72-7.72 1.47 1.35L5.41 20z\"/>\n",
              "  </svg>\n",
              "      </button>\n",
              "\n",
              "\n",
              "\n",
              "    <div id=\"df-be95f887-a0c7-4fb7-b201-6043f325533a\">\n",
              "      <button class=\"colab-df-quickchart\" onclick=\"quickchart('df-be95f887-a0c7-4fb7-b201-6043f325533a')\"\n",
              "              title=\"Suggest charts.\"\n",
              "              style=\"display:none;\">\n",
              "\n",
              "<svg xmlns=\"http://www.w3.org/2000/svg\" height=\"24px\"viewBox=\"0 0 24 24\"\n",
              "     width=\"24px\">\n",
              "    <g>\n",
              "        <path d=\"M19 3H5c-1.1 0-2 .9-2 2v14c0 1.1.9 2 2 2h14c1.1 0 2-.9 2-2V5c0-1.1-.9-2-2-2zM9 17H7v-7h2v7zm4 0h-2V7h2v10zm4 0h-2v-4h2v4z\"/>\n",
              "    </g>\n",
              "</svg>\n",
              "      </button>\n",
              "    </div>\n",
              "\n",
              "<style>\n",
              "  .colab-df-quickchart {\n",
              "    background-color: #E8F0FE;\n",
              "    border: none;\n",
              "    border-radius: 50%;\n",
              "    cursor: pointer;\n",
              "    display: none;\n",
              "    fill: #1967D2;\n",
              "    height: 32px;\n",
              "    padding: 0 0 0 0;\n",
              "    width: 32px;\n",
              "  }\n",
              "\n",
              "  .colab-df-quickchart:hover {\n",
              "    background-color: #E2EBFA;\n",
              "    box-shadow: 0px 1px 2px rgba(60, 64, 67, 0.3), 0px 1px 3px 1px rgba(60, 64, 67, 0.15);\n",
              "    fill: #174EA6;\n",
              "  }\n",
              "\n",
              "  [theme=dark] .colab-df-quickchart {\n",
              "    background-color: #3B4455;\n",
              "    fill: #D2E3FC;\n",
              "  }\n",
              "\n",
              "  [theme=dark] .colab-df-quickchart:hover {\n",
              "    background-color: #434B5C;\n",
              "    box-shadow: 0px 1px 3px 1px rgba(0, 0, 0, 0.15);\n",
              "    filter: drop-shadow(0px 1px 2px rgba(0, 0, 0, 0.3));\n",
              "    fill: #FFFFFF;\n",
              "  }\n",
              "</style>\n",
              "\n",
              "    <script>\n",
              "      async function quickchart(key) {\n",
              "        const containerElement = document.querySelector('#' + key);\n",
              "        const charts = await google.colab.kernel.invokeFunction(\n",
              "            'suggestCharts', [key], {});\n",
              "      }\n",
              "    </script>\n",
              "\n",
              "      <script>\n",
              "\n",
              "function displayQuickchartButton(domScope) {\n",
              "  let quickchartButtonEl =\n",
              "    domScope.querySelector('#df-be95f887-a0c7-4fb7-b201-6043f325533a button.colab-df-quickchart');\n",
              "  quickchartButtonEl.style.display =\n",
              "    google.colab.kernel.accessAllowed ? 'block' : 'none';\n",
              "}\n",
              "\n",
              "        displayQuickchartButton(document);\n",
              "      </script>\n",
              "      <style>\n",
              "    .colab-df-container {\n",
              "      display:flex;\n",
              "      flex-wrap:wrap;\n",
              "      gap: 12px;\n",
              "    }\n",
              "\n",
              "    .colab-df-convert {\n",
              "      background-color: #E8F0FE;\n",
              "      border: none;\n",
              "      border-radius: 50%;\n",
              "      cursor: pointer;\n",
              "      display: none;\n",
              "      fill: #1967D2;\n",
              "      height: 32px;\n",
              "      padding: 0 0 0 0;\n",
              "      width: 32px;\n",
              "    }\n",
              "\n",
              "    .colab-df-convert:hover {\n",
              "      background-color: #E2EBFA;\n",
              "      box-shadow: 0px 1px 2px rgba(60, 64, 67, 0.3), 0px 1px 3px 1px rgba(60, 64, 67, 0.15);\n",
              "      fill: #174EA6;\n",
              "    }\n",
              "\n",
              "    [theme=dark] .colab-df-convert {\n",
              "      background-color: #3B4455;\n",
              "      fill: #D2E3FC;\n",
              "    }\n",
              "\n",
              "    [theme=dark] .colab-df-convert:hover {\n",
              "      background-color: #434B5C;\n",
              "      box-shadow: 0px 1px 3px 1px rgba(0, 0, 0, 0.15);\n",
              "      filter: drop-shadow(0px 1px 2px rgba(0, 0, 0, 0.3));\n",
              "      fill: #FFFFFF;\n",
              "    }\n",
              "  </style>\n",
              "\n",
              "      <script>\n",
              "        const buttonEl =\n",
              "          document.querySelector('#df-1a7a0302-21b1-41e6-8ad5-97133ec8cce8 button.colab-df-convert');\n",
              "        buttonEl.style.display =\n",
              "          google.colab.kernel.accessAllowed ? 'block' : 'none';\n",
              "\n",
              "        async function convertToInteractive(key) {\n",
              "          const element = document.querySelector('#df-1a7a0302-21b1-41e6-8ad5-97133ec8cce8');\n",
              "          const dataTable =\n",
              "            await google.colab.kernel.invokeFunction('convertToInteractive',\n",
              "                                                     [key], {});\n",
              "          if (!dataTable) return;\n",
              "\n",
              "          const docLinkHtml = 'Like what you see? Visit the ' +\n",
              "            '<a target=\"_blank\" href=https://colab.research.google.com/notebooks/data_table.ipynb>data table notebook</a>'\n",
              "            + ' to learn more about interactive tables.';\n",
              "          element.innerHTML = '';\n",
              "          dataTable['output_type'] = 'display_data';\n",
              "          await google.colab.output.renderOutput(dataTable, element);\n",
              "          const docLink = document.createElement('div');\n",
              "          docLink.innerHTML = docLinkHtml;\n",
              "          element.appendChild(docLink);\n",
              "        }\n",
              "      </script>\n",
              "    </div>\n",
              "  </div>\n"
            ]
          },
          "metadata": {},
          "execution_count": 218
        }
      ]
    },
    {
      "cell_type": "code",
      "source": [
        "exist_keywords = []\n",
        "c = 0\n",
        "for i in range(len(df)):\n",
        "  keywords = [k for k in df.keywords.iloc[i] if k in df.body.iloc[i]]\n",
        "  exist_keywords.append(keywords)\n",
        "\n",
        "# df['existing_keywords'] = exist_keywords"
      ],
      "metadata": {
        "id": "Iq10y8-jnsk9"
      },
      "execution_count": 168,
      "outputs": []
    },
    {
      "cell_type": "code",
      "source": [
        "def evaluate(candidates, references):\n",
        "    if len(references) == 0:\n",
        "      return 0.5\n",
        "\n",
        "    r = len(set(references) & set(candidates)) / len(set(references))\n",
        "    p = len(set(references) & set(candidates)) / len(set(candidates))\n",
        "\n",
        "    if p == 0 or r == 0:\n",
        "      return [0, 0, 0]\n",
        "\n",
        "    return [(2*p*r) / (p+r), r, p]"
      ],
      "metadata": {
        "id": "KHaHuIdhscif"
      },
      "execution_count": 281,
      "outputs": []
    },
    {
      "cell_type": "code",
      "source": [
        "def ke_topicRank(text):\n",
        "  valid_pos_tags = {'NOUN', 'NOUN,EZ', 'ADJ', 'ADJ,EZ'}\n",
        "  extractor = perke.unsupervised.graph_based.TopicRank()\n",
        "\n",
        "  extractor.load_text(input=text, word_normalization_method=None)\n",
        "  extractor.select_candidates()\n",
        "  extractor.weight_candidates(\n",
        "      threshold=0.67, metric='jaccard', linkage_method='average')\n",
        "\n",
        "  keyphrases = extractor.get_n_best(n=10)\n",
        "  candids, score = zip(*keyphrases)\n",
        "\n",
        "  return list(candids)\n",
        "\n",
        "\n",
        "def ke_textRank(text):\n",
        "  valid_pos_tags = {'NOUN', 'NOUN,EZ', 'ADJ', 'ADJ,EZ'}\n",
        "  extractor = perke.unsupervised.graph_based.TextRank()\n",
        "\n",
        "  extractor.load_text(text, word_normalization_method=None)\n",
        "  extractor.weight_candidates(window_size=3, top_t_percent=0.33)\n",
        "\n",
        "  keyphrases = extractor.get_n_best(n=10)\n",
        "  candids, score = zip(*keyphrases)\n",
        "\n",
        "  return list(candids)\n",
        "\n",
        "\n",
        "def ke_singleRank(text):\n",
        "  valid_pos_tags = {'NOUN', 'NOUN,EZ', 'ADJ', 'ADJ,EZ'}\n",
        "  extractor = perke.unsupervised.graph_based.SingleRank()\n",
        "\n",
        "  extractor.load_text(input=text, word_normalization_method=None)\n",
        "  extractor.select_candidates()\n",
        "  extractor.weight_candidates(window=10)\n",
        "\n",
        "  keyphrases = extractor.get_n_best(n=10)\n",
        "  candids, score = zip(*keyphrases)\n",
        "\n",
        "  return list(candids)\n",
        "\n",
        "\n",
        "def ke_positionRank(text):\n",
        "  # Define the grammar for selecting the keyphrase candidates\n",
        "  grammar = r\"\"\"\n",
        "      NP:\n",
        "          {<NOUN>}<VERB>\n",
        "      NP:\n",
        "          {<DET(,EZ)?|NOUN(,EZ)?|NUM(,EZ)?|ADJ(,EZ)|PRON><DET(,EZ)|NOUN(,EZ)|NUM(,EZ)|ADJ(,EZ)|PRON>*}\n",
        "          <NOUN>}{<.*(,EZ)?>\n",
        "  \"\"\"\n",
        "  valid_pos_tags = {'NOUN', 'NOUN,EZ', 'ADJ', 'ADJ,EZ'}\n",
        "  extractor = perke.unsupervised.graph_based.PositionRank()\n",
        "\n",
        "  extractor.load_text(\n",
        "      input=text, word_normalization_method=None,\n",
        "      universal_pos_tags=False,\n",
        "  )\n",
        "  extractor.select_candidates(grammar=grammar, maximum_word_number=3)\n",
        "  extractor.weight_candidates(window_size=10)\n",
        "\n",
        "  keyphrases = extractor.get_n_best(n=10)\n",
        "  candids, score = zip(*keyphrases)\n",
        "\n",
        "  return list(candids)\n",
        "\n",
        "\n",
        "def ke_multipartiteRank(text):\n",
        "  valid_pos_tags = {'NOUN', 'NOUN,EZ', 'ADJ', 'ADJ,EZ'}\n",
        "  extractor = perke.unsupervised.graph_based.MultipartiteRank()\n",
        "\n",
        "  extractor.load_text(input=text, word_normalization_method=None)\n",
        "  extractor.select_candidates()\n",
        "  extractor.weight_candidates(\n",
        "      threshold=0.70,\n",
        "      metric='jaccard',\n",
        "      linkage_method='average',\n",
        "      alpha=1.2,\n",
        "  )\n",
        "\n",
        "  keyphrases = extractor.get_n_best(n=10)\n",
        "  candids, score = zip(*keyphrases)\n",
        "\n",
        "  return list(candids)"
      ],
      "metadata": {
        "id": "YToHOv9RstT1"
      },
      "execution_count": 104,
      "outputs": []
    },
    {
      "cell_type": "code",
      "source": [
        "# Number of processes to run in parallel\n",
        "num_processes = multiprocessing.cpu_count()\n",
        "\n",
        "# Create a multiprocessing pool\n",
        "pool = multiprocessing.Pool(processes=num_processes)\n",
        "\n",
        "# Perform keyword extraction for each text using multiprocessing\n",
        "results_topic = pool.map(ke_topicRank, all_texts[:25])\n",
        "results_text = pool.map(ke_textRank, all_texts[:25])\n",
        "results_single = pool.map(ke_singleRank, all_texts[:25])\n",
        "results_position = pool.map(ke_positionRank, all_texts[:25])\n",
        "results_multi = pool.map(ke_multipartiteRank, all_texts[:25])\n",
        "\n",
        "# Close the pool of processes\n",
        "pool.close()\n",
        "pool.join()"
      ],
      "metadata": {
        "id": "yA7EbSfwur0o"
      },
      "execution_count": 105,
      "outputs": []
    },
    {
      "cell_type": "code",
      "source": [
        "topicRank= []\n",
        "textRank = []\n",
        "singleRank = []\n",
        "positionRank = []\n",
        "multi = []\n",
        "\n",
        "for i in range(len(results_topic)):\n",
        "  references = df['keywords'].iloc[i]\n",
        "  topicRank.append(evaluate(results_topic[i], references))\n",
        "  textRank.append(evaluate(results_text[i], references))\n",
        "  singleRank.append(evaluate(results_single[i], references))\n",
        "  positionRank.append(evaluate(results_position[i], references))\n",
        "  multi.append(evaluate(results_multi[i], references))\n",
        "\n",
        "print(\"Topic Rank mean f1 score is:\", np.mean(np.array(topicRank)).round(4))\n",
        "print(\"Text Rank mean f1 score is:\", np.mean(np.array(textRank)).round(4))\n",
        "print(\"Single Rank mean f1 score is:\", np.mean(np.array(singleRank)).round(4))\n",
        "print(\"Position Rank mean f1 score is:\", np.mean(np.array(positionRank)).round(4))\n",
        "print(\"Multipartite Rank mean f1 score is:\", np.mean(np.array(multi)).round(4))"
      ],
      "metadata": {
        "colab": {
          "base_uri": "https://localhost:8080/"
        },
        "id": "zTZsrO4TsgqI",
        "outputId": "f6828560-94b2-4b41-8a85-62f0393c978f"
      },
      "execution_count": 107,
      "outputs": [
        {
          "output_type": "stream",
          "name": "stdout",
          "text": [
            "Topic Rank mean f1 score is: 0.121\n",
            "Text Rank mean f1 score is: 0.1392\n",
            "Single Rank mean f1 score is: 0.0887\n",
            "Position Rank mean f1 score is: 0.0508\n",
            "Multipartite Rank mean f1 score is: 0.1429\n"
          ]
        }
      ]
    },
    {
      "cell_type": "code",
      "source": [
        "# 25 text\n",
        "\n",
        "# Topic Rank mean f1 score is: 0.121\n",
        "# Text Rank mean f1 score is: 0.087\n",
        "# Single Rank mean f1 score is: 0.0887\n",
        "# Position Rank mean f1 score is: 0.0508\n",
        "# Multipartite Rank mean f1 score is: 0.1429\n",
        "\n",
        "# Topic Rank mean f1 score is: 0.1053\n",
        "# Text Rank mean f1 score is: 0.1392\n",
        "# Single Rank mean f1 score is: 0.0887\n",
        "# Position Rank mean f1 score is: 0.0508\n",
        "# Multipartite Rank mean f1 score is: 0.1379\n",
        "\n",
        "# 10 text\n",
        "# Topic Rank mean f1 score is: 0.1125\n",
        "# Text Rank mean f1 score is: 0.1463\n",
        "# Single Rank mean f1 score is: 0.1094\n",
        "# Position Rank mean f1 score is: 0.0236\n",
        "# Multipartite Rank mean f1 score is: 0.135\n",
        "\n",
        "# Topic Rank mean f1 score is: 0.1125\n",
        "# Text Rank mean f1 score is: 0.1463\n",
        "# Single Rank mean f1 score is: 0.1094\n",
        "# Position Rank mean f1 score is: 0.0752\n",
        "# Multipartite Rank mean f1 score is: 0.135\n",
        "\n",
        "# Topic Rank mean f1 score is: 0.1125\n",
        "# Text Rank mean f1 score is: 0.1463\n",
        "# Single Rank mean f1 score is: 0.1094\n",
        "# Position Rank mean f1 score is: 0.0752\n",
        "# Multipartite Rank mean f1 score is: 0.1475\n",
        "\n",
        "\n",
        "# Topic Rank mean f1 score is: 0.0982\n",
        "# Text Rank mean f1 score is: 0.1463\n",
        "# Single Rank mean f1 score is: 0.1094\n",
        "# Position Rank mean f1 score is: 0.0752\n",
        "# Multipartite Rank mean f1 score is: 0.1475\n",
        "\n",
        "# 25 text\n",
        "# Topic Rank mean f1 score is: 0.0996\n",
        "# Text Rank mean f1 score is: 0.1392\n",
        "# Single Rank mean f1 score is: 0.0887\n",
        "# Position Rank mean f1 score is: 0.0461\n",
        "# Multipartite Rank mean f1 score is: 0.1429"
      ],
      "metadata": {
        "id": "Neh4JIR8u7Eo"
      },
      "execution_count": null,
      "outputs": []
    },
    {
      "cell_type": "code",
      "source": [
        "stopwords = stopwords_list() + ['ها', 'های', 'ی']\n",
        "\n",
        "normalizer = Normalizer()\n",
        "stemmer = Stemmer()\n",
        "lemmatizer = Lemmatizer()\n",
        "\n",
        "tagger = POSTagger(model='./content/MyDrive/resources/pos_tagger.model')\n",
        "\n",
        "def preprocess(stemming=True, lemmatizing=False, reg_clean=False, tagging=True, remove_stopwords=True):\n",
        "  df['clean_text'] = df['body'].apply(lambda sample: normalizer.normalize(sample))\n",
        "  if stemming:\n",
        "    df['clean_text'] = df['clean_text'].apply(lambda sample: stemmer.stem(sample))\n",
        "  if lemmatizing:\n",
        "    df['clean_text'] = df['clean_text'].apply(lambda sample: lemmatizer.lemmatize(sample))\n",
        "\n",
        "  if reg_clean:\n",
        "    df['clean_text'] = df['clean_text'].apply(lambda sample: re.sub(r\"[^\\w\\s]\", ' ', sample))\n",
        "    df['clean_text'] = df['clean_text'].apply(lambda sample: re.sub(r\"\\d\", ' ', sample))\n",
        "    df['clean_text'] = df['clean_text'].apply(lambda sample: re.sub(r\"\\s+\", ' ', sample))\n",
        "\n",
        "  if tagging:\n",
        "    df[\"clean_text\"] = df[\"body\"].apply(lambda sample:[word[0] for word in tagger.tag(word_tokenize(sample)) if word[1] in {'NOUN,EZ':'', 'NOUN':'', 'ADJ':'', 'ADJ,EZ':''}])\n",
        "  else:\n",
        "    df[\"clean_text\"] = df[\"clean_text\"].apply(lambda r: [w for w in word_tokenize(r)])\n",
        "\n",
        "  if remove_stopwords:\n",
        "    df['clean_text'] = df[\"clean_text\"].apply(lambda sample:[word for word in sample\n",
        "                                                          if word not in stopwords and len(word) > 1\n",
        "                                                          and not word.isdigit()])\n",
        "\n",
        "  clean_text = df.clean_text.values.tolist()\n",
        "  train_data = [' '.join(word for word in text).strip() for text in clean_text]\n",
        "  df.drop(columns='clean_text', inplace=True)\n",
        "\n",
        "  return train_data"
      ],
      "metadata": {
        "id": "NZ-ywLZOecas"
      },
      "execution_count": 356,
      "outputs": []
    },
    {
      "cell_type": "code",
      "source": [
        "import yake\n",
        "from hazm import *\n",
        "\n",
        "normalizer = Normalizer()\n",
        "stemmer = Stemmer()\n",
        "\n",
        "def yake_extractor(texts, top=10):\n",
        "  # Create a YAKE keyword extractor\n",
        "  kw_extractor = yake.KeywordExtractor(lan='fa', top=top)\n",
        "  candids = []\n",
        "  for text in texts:\n",
        "    text = normalizer.normalize(text)\n",
        "    keywords = kw_extractor.extract_keywords(text)\n",
        "\n",
        "    cand, score = zip(*keywords)\n",
        "    candids.append(list(cand))\n",
        "  return candids"
      ],
      "metadata": {
        "id": "RhwTkjCg3-xz"
      },
      "execution_count": 347,
      "outputs": []
    },
    {
      "cell_type": "code",
      "source": [
        "# clean_text = preprocess()\n",
        "# normal_text = preprocess(stemming=False, lemmatizing=False, tagging=False, remove_stopwords=False)"
      ],
      "metadata": {
        "id": "5nv_NfkiwLZL"
      },
      "execution_count": 344,
      "outputs": []
    },
    {
      "cell_type": "code",
      "source": [
        "x = []\n",
        "candids = yake_extractor(all_texts, 10)\n",
        "for i in range(len(candids)):\n",
        "  x.append(evaluate(candids[i], df.keywords.iloc[i]))\n",
        "\n",
        "print(f'yake f1 score with {9} keywords: ', np.array(x).mean())\n"
      ],
      "metadata": {
        "colab": {
          "base_uri": "https://localhost:8080/"
        },
        "id": "-zslCXMUoGFN",
        "outputId": "5ab9fefd-0ca9-449c-9121-1d539f695765"
      },
      "execution_count": 348,
      "outputs": [
        {
          "output_type": "stream",
          "name": "stdout",
          "text": [
            "yake f1 score with 9 keywords:  0.12503081961995977\n"
          ]
        }
      ]
    },
    {
      "cell_type": "code",
      "source": [
        "yake_score = []\n",
        "yake_score_2 = []\n",
        "# candids = yake_extractor(normal_text, 8)\n",
        "\n",
        "yake_score_clean = []\n",
        "# candids_clean = yake_extractor(clean_text)\n",
        "\n",
        "num_keys = []\n",
        "f1_scores = []\n",
        "recall_scores = []\n",
        "percision_scores = []\n",
        "\n",
        "for k in range(4, 15):\n",
        "  num_keys.append(k)\n",
        "  yake_score = []\n",
        "  candids = yake_extractor(all_texts, k)\n",
        "  for i in range(len(candids)):\n",
        "    yake_score.append(evaluate(candids[i], df.keywords.iloc[i]))\n",
        "    # yake_score_2.append(evaluate(candids[i], df.existing_keywords.iloc[i]))\n",
        "    # yake_score_clean.append(evaluate(candids_clean[i], df.keywords.iloc[i]))\n",
        "\n",
        "  s = np.array(yake_score)\n",
        "  s = s.mean(axis=0)\n",
        "  f1_scores.append(s[0])\n",
        "  recall_scores.append(s[1])\n",
        "  percision_scores.append(s[2])\n",
        "\n",
        "  print(f'yake f1 score with {k} keywords: ', np.array(yake_score).mean(axis=1)[0])\n",
        "  # print('preprocessed text yake f1 score: ', np.array(yake_score_2).mean())"
      ],
      "metadata": {
        "id": "LxST_CgC6tZc"
      },
      "execution_count": null,
      "outputs": []
    },
    {
      "cell_type": "code",
      "source": [
        "import seaborn as sns\n",
        "sns.set_theme()\n",
        "\n",
        "fig , axes = plt.subplots()\n",
        "\n",
        "axes.set_title('yake analysis')\n",
        "axes.set_xlabel('num keywords')\n",
        "axes.set_ylabel('evaluation score')\n",
        "axes.plot(num_keys, f1_scores,label = 'f1', color='g')\n",
        "axes.plot(num_keys, recall_scores, label='recall', color='r')\n",
        "axes.plot(num_keys, percision_scores, label='percision', color='blue')\n",
        "\n",
        "axes.legend()"
      ],
      "metadata": {
        "colab": {
          "base_uri": "https://localhost:8080/",
          "height": 497
        },
        "id": "MrSmd2jQhUI-",
        "outputId": "8c3417a8-b3b6-409a-93b8-6a71e4ba29e7"
      },
      "execution_count": 350,
      "outputs": [
        {
          "output_type": "execute_result",
          "data": {
            "text/plain": [
              "<matplotlib.legend.Legend at 0x7e44d155e6b0>"
            ]
          },
          "metadata": {},
          "execution_count": 350
        },
        {
          "output_type": "display_data",
          "data": {
            "text/plain": [
              "<Figure size 640x480 with 1 Axes>"
            ],
            "image/png": "[encoded data removed]"
          },
          "metadata": {}
        }
      ]
    },
    {
      "cell_type": "code",
      "source": [
        "from sklearn.feature_extraction.text import TfidfVectorizer\n",
        "\n",
        "stopwords = stopwords_list() + ['ها', 'های', 'ی']\n",
        "\n",
        "vectorizer = TfidfVectorizer(ngram_range=(1, 4), min_df=0.01, tokenizer=word_tokenize, stop_words=stopwords, analyzer='word')"
      ],
      "metadata": {
        "id": "JwAfnK96MADq"
      },
      "execution_count": 366,
      "outputs": []
    },
    {
      "cell_type": "code",
      "source": [
        "def tfidf_extractor(texts, top):\n",
        "  candids = []\n",
        "  for text in texts:\n",
        "    X = vectorizer.fit_transform([text])\n",
        "\n",
        "    feature_names = vectorizer.get_feature_names_out()\n",
        "    tfidf_scores = X.toarray().sum(axis=0)\n",
        "\n",
        "    top_keywords = sorted(zip(feature_names, tfidf_scores), key=lambda x: x[1], reverse=True)[:top]\n",
        "    keyword, score = zip(*top_keywords)\n",
        "    candids.append(list(keyword))\n",
        "  return candids"
      ],
      "metadata": {
        "id": "u6C1I7eJlsVI"
      },
      "execution_count": 367,
      "outputs": []
    },
    {
      "cell_type": "code",
      "source": [
        "# with_chunking = preprocess(stemming=True, lemmatizing=False, reg_clean=True, tagging=True, remove_stopwords=True)\n",
        "without_chunking = preprocess(stemming=True, lemmatizing=False, reg_clean=True, tagging=False, remove_stopwords=True)"
      ],
      "metadata": {
        "id": "ZKIy4we6qrqB"
      },
      "execution_count": 359,
      "outputs": []
    },
    {
      "cell_type": "code",
      "source": [
        "# candids_chunking = tfidf_extractor(with_chunking, 10)\n",
        "candids_without_chunking = tfidf_extractor(without_chunking, 10)\n",
        "\n",
        "tfidf_score1 = []\n",
        "tfidf_score2 = []\n",
        "\n",
        "for i in range(len(candids_chunking)):\n",
        "  # tfidf_score1.append(evaluate(candids_chunking[i], df.keywords.iloc[i]))\n",
        "  tfidf_score2.append(evaluate(candids_without_chunking[i], df.keywords.iloc[i]))\n",
        "\n",
        "# print(f'tfidf f1 score: with chunking  ', np.array(tfidf_score1).mean(axis=0)[0])\n",
        "print(f'tfidf f1 score: without chunking  ', np.array(tfidf_score2).mean(axis=0)[0])"
      ],
      "metadata": {
        "colab": {
          "base_uri": "https://localhost:8080/"
        },
        "id": "IlE2MukEqjYK",
        "outputId": "a0c84129-4f05-4006-c836-246067da78b4"
      },
      "execution_count": 368,
      "outputs": [
        {
          "output_type": "stream",
          "name": "stdout",
          "text": [
            "tfidf f1 score: without chunking   0.15415547027899532\n"
          ]
        }
      ]
    },
    {
      "cell_type": "code",
      "source": [
        "num_keys = []\n",
        "f1_scores = []\n",
        "recall_scores = []\n",
        "percision_scores = []\n",
        "\n",
        "for k in range(4, 15):\n",
        "  tfidf_score = []\n",
        "  num_keys.append(k)\n",
        "  candids = tfidf_extractor(with_chunking, k)\n",
        "  for i in range(len(candids)):\n",
        "    tfidf_score.append(evaluate(candids[i], df.keywords.iloc[i]))\n",
        "\n",
        "  s = np.array(tfidf_score).mean(axis=0)\n",
        "  f1_scores.append(s[0])\n",
        "  recall_scores.append(s[1])\n",
        "  percision_scores.append(s[2])\n",
        "\n",
        "  print(f'tfidf f1 score: with {k} keyword ', np.array(tfidf_score).mean(axis=0)[0])"
      ],
      "metadata": {
        "id": "jx6aactNv4_0",
        "colab": {
          "base_uri": "https://localhost:8080/"
        },
        "outputId": "19edcc72-f216-44e0-916c-ce2086b233cb"
      },
      "execution_count": 361,
      "outputs": [
        {
          "output_type": "stream",
          "name": "stderr",
          "text": [
            "/usr/local/lib/python3.10/dist-packages/sklearn/feature_extraction/text.py:528: UserWarning: The parameter 'token_pattern' will not be used since 'tokenizer' is not None'\n",
            "  warnings.warn(\n"
          ]
        },
        {
          "output_type": "stream",
          "name": "stdout",
          "text": [
            "tfidf f1 score: with 4 keyword  0.11891757987836406\n",
            "tfidf f1 score: with 5 keyword  0.12999094958922797\n",
            "tfidf f1 score: with 6 keyword  0.14660167046957556\n",
            "tfidf f1 score: with 7 keyword  0.15338007457378905\n",
            "tfidf f1 score: with 8 keyword  0.15641725749310897\n",
            "tfidf f1 score: with 9 keyword  0.1610927730231809\n",
            "tfidf f1 score: with 10 keyword  0.16240923476547398\n",
            "tfidf f1 score: with 11 keyword  0.15995900456497028\n",
            "tfidf f1 score: with 12 keyword  0.1603602049424864\n",
            "tfidf f1 score: with 13 keyword  0.16113159735293978\n",
            "tfidf f1 score: with 14 keyword  0.1591455350129678\n"
          ]
        }
      ]
    },
    {
      "cell_type": "code",
      "source": [
        "fig , axes = plt.subplots()\n",
        "\n",
        "axes.set_title('tfidf analysis')\n",
        "axes.set_xlabel('num keywords', fontsize=13)\n",
        "axes.set_ylabel('evaluation score', fontsize=13)\n",
        "axes.plot(num_keys, f1_scores, label = 'f1', color='g')\n",
        "axes.plot(num_keys, recall_scores, label='recall', color='r')\n",
        "axes.plot(num_keys, percision_scores, label='percision', color='blue')\n",
        "\n",
        "axes.legend()"
      ],
      "metadata": {
        "colab": {
          "base_uri": "https://localhost:8080/",
          "height": 497
        },
        "id": "_ZCOj-sn23c_",
        "outputId": "b8fa18ac-069c-4dd6-ab11-063feb29c6f2"
      },
      "execution_count": 362,
      "outputs": [
        {
          "output_type": "execute_result",
          "data": {
            "text/plain": [
              "<matplotlib.legend.Legend at 0x7e44d4999180>"
            ]
          },
          "metadata": {},
          "execution_count": 362
        },
        {
          "output_type": "display_data",
          "data": {
            "text/plain": [
              "<Figure size 640x480 with 1 Axes>"
            ],
            "image/png": "[encoded data removed]"
          },
          "metadata": {}
        }
      ]
    },
    {
      "cell_type": "code",
      "source": [],
      "metadata": {
        "id": "MIn9MvhUtiub"
      },
      "execution_count": null,
      "outputs": []
    }
  ],
  "metadata": {
    "colab": {
      "provenance": [],
      "authorship_tag": "ABX9TyPefoUVy6XQD2NPSa1ND+df",
      "include_colab_link": true
    },
    "kernelspec": {
      "display_name": "Python 3",
      "name": "python3"
    },
    "language_info": {
      "name": "python"
    }
  },
  "nbformat": 4,
  "nbformat_minor": 0
}